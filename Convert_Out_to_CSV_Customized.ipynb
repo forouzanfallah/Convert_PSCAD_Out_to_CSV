{
  "nbformat": 4,
  "nbformat_minor": 0,
  "metadata": {
    "colab": {
      "provenance": [],
      "authorship_tag": "ABX9TyMTrDhKKAzwyB0NxuT/l46V",
      "include_colab_link": true
    },
    "kernelspec": {
      "name": "python3",
      "display_name": "Python 3"
    },
    "language_info": {
      "name": "python"
    }
  },
  "cells": [
    {
      "cell_type": "markdown",
      "metadata": {
        "id": "view-in-github",
        "colab_type": "text"
      },
      "source": [
        "<a href=\"https://colab.research.google.com/github/forouzanfallah/Convert_PSCAD_Out_to_CSV/blob/main/Convert_Out_to_CSV_Customized.ipynb\" target=\"_parent\"><img src=\"https://colab.research.google.com/assets/colab-badge.svg\" alt=\"Open In Colab\"/></a>"
      ]
    },
    {
      "cell_type": "markdown",
      "source": [
        "###Connect to Google Drive"
      ],
      "metadata": {
        "id": "Blaj-03W8deC"
      }
    },
    {
      "cell_type": "code",
      "source": [
        "from google.colab import drive\n",
        "drive.mount('/content/drive')\n"
      ],
      "metadata": {
        "colab": {
          "base_uri": "https://localhost:8080/"
        },
        "id": "y8JtnMEzkg8r",
        "outputId": "0945be95-34ee-45a8-d9fe-2f4cd9d0999a"
      },
      "execution_count": 1,
      "outputs": [
        {
          "output_type": "stream",
          "name": "stdout",
          "text": [
            "Mounted at /content/drive\n"
          ]
        }
      ]
    },
    {
      "cell_type": "markdown",
      "source": [
        "###Directories"
      ],
      "metadata": {
        "id": "P4pL0eok8hvn"
      }
    },
    {
      "cell_type": "code",
      "source": [
        "import zipfile\n",
        "import os\n",
        "\n",
        "# Replace this with the path to your ZIP file\n",
        "zip_file_path = '/content/drive/MyDrive/dataCig/data.zip'\n",
        "\n",
        "# Replace this with the path where you want to extract the files and store CSV files\n",
        "data_directory = '/content/CIGRE'\n",
        "\n",
        "os.makedirs(data_directory, exist_ok=True)\n",
        "\n",
        "with zipfile.ZipFile(zip_file_path, 'r') as zip_ref:\n",
        "    zip_ref.extractall(data_directory)\n",
        "\n",
        "print(f\"Files extracted to {data_directory}\")\n"
      ],
      "metadata": {
        "colab": {
          "base_uri": "https://localhost:8080/"
        },
        "id": "pXd1KZJek1JB",
        "outputId": "a663eabe-2b18-4e44-da43-a506b8bdc0b9"
      },
      "execution_count": 3,
      "outputs": [
        {
          "output_type": "stream",
          "name": "stdout",
          "text": [
            "Files extracted to /content/CIGRE\n"
          ]
        }
      ]
    },
    {
      "cell_type": "markdown",
      "source": [
        "###OUT to CSV"
      ],
      "metadata": {
        "id": "qmc1Dnxd8BfV"
      }
    },
    {
      "cell_type": "code",
      "source": [
        "import pandas as pd\n",
        "import re\n",
        "import os\n",
        "\n",
        "# Define your headers here. This is just an example.\n",
        "headers = ['time', 'I12:1', 'I12:2', 'I12:3', 'I1213:1', 'I1213:2', 'I1213:3', 'I23:1', 'I23:2', 'I23:3', 'I1314:1', 'I1314:2', 'I1314:3', 'I34:1', 'I34:2', 'I34:3', 'I38:1', 'I38:2', 'I38:3', 'I12:1', 'I12:2', 'I12:3', 'I13:1', 'I13:2', 'I13:3', 'I148:1', 'I148:2', 'I148:3', 'I14:1', 'I14:2', 'I14:3', 'I83:1', 'I83:2', 'I83:3', 'I45:1', 'I45:2', 'I45:3', 'I89:1', 'I89:2', 'I89:3', 'I411:1', 'I411:2', 'I411:3', 'I87:1', 'I87:2', 'I87:3', 'I114:1', 'I114:2', 'I114:3', 'I76:1', 'I76:2', 'I76:3', 'I1110:1', 'I1110:2', 'I1110:3', 'I910:1', 'I910:2', 'I910:3', 'I56:1', 'I56:2', 'I56:3', 'I67:1', 'I67:2', 'I67:3', 'I65:1', 'I65:2', 'I65:3', 'I109:1', 'I109:2', 'I109:3', 'I1011:1', 'I1011:2', 'I1011:3', 'I54:1', 'I54:2', 'I54:3', 'I98:1', 'I98:2', 'I98:3', 'I78:1', 'I78:2', 'I78:3', 'I814:1', 'I814:2', 'I814:3', 'I43:1', 'I43:2', 'I43:3', 'I1413:1', 'I1413:2', 'I1413:3', 'I11:1', 'I11:2', 'I11:3', 'I32:1', 'I32:2', 'I32:3', 'I10:1', 'I10:2', 'I10:3', 'I9:1', 'I9:2', 'I9:3', 'I1312:1', 'I1312:2', 'I1312:3', 'I8:1', 'I8:2', 'I8:3', 'I7:1', 'I7:2', 'I7:3', 'I21:1', 'I21:2', 'I21:3', 'I6:1', 'I6:2', 'I6:3', 'I5:1', 'I5:2', 'I5:3', 'I4:1', 'I4:2', 'I4:3', 'I3:1', 'I3:2', 'I3:3', 'I2:1', 'I2:2', 'I2:3', 'I1:1', 'I1:2', 'I1:3']\n",
        "\n",
        "for folder in os.listdir(data_directory):\n",
        "    folder_path = os.path.join(data_directory, folder)\n",
        "\n",
        "    if os.path.isdir(folder_path):\n",
        "        # List .out files in the directory\n",
        "        file_names = [f for f in os.listdir(folder_path) if f.endswith('.out')]\n",
        "        file_names.sort(key=lambda x: int(re.search(r'_(\\d+)', x).group(1)))\n",
        "        print(file_names)\n",
        "\n",
        "        dfs = []\n",
        "        for idx, file_name in enumerate(file_names):\n",
        "            try:\n",
        "                with open(os.path.join(folder_path, file_name), 'r') as file:\n",
        "                    lines = file.readlines()\n",
        "                data = [[float(val) for val in line.split()] for line in lines]\n",
        "                df = pd.DataFrame(data)\n",
        "                if idx > 0:\n",
        "                    df = df.drop(df.columns[0], axis=1)\n",
        "                dfs.append(df)\n",
        "            except Exception as e:\n",
        "                print(f\"Error reading {file_name}: {e}\")\n",
        "\n",
        "        final_df = pd.concat(dfs, axis=1)\n",
        "\n",
        "        # Adjust headers based on the number of columns in final_df\n",
        "        num_cols = final_df.shape[1]\n",
        "        if num_cols > len(headers):\n",
        "            # Extend the headers list if there are more columns than predefined headers\n",
        "            final_df = final_df.iloc[:, :len(headers)]\n",
        "        elif num_cols < len(headers):\n",
        "            # Truncate the headers list if there are fewer columns than predefined headers\n",
        "            headers = headers[:num_cols]\n",
        "\n",
        "        final_df.columns = headers\n",
        "\n",
        "        # Save the DataFrame to a CSV file\n",
        "        final_df.to_csv(os.path.join(data_directory, f'{folder}.csv'), index=False)\n",
        "        print(f'CSV file saved for {folder}')\n"
      ],
      "metadata": {
        "colab": {
          "base_uri": "https://localhost:8080/"
        },
        "id": "xqBquU6ZU5mv",
        "outputId": "921e4a0d-ff8f-49d6-e7c2-4bf1f77ab3e8"
      },
      "execution_count": 8,
      "outputs": [
        {
          "output_type": "stream",
          "name": "stdout",
          "text": [
            "['Bus23_0.out', 'Bus23_1.out', 'Bus23_2.out', 'Bus23_3.out', 'Bus23_4.out', 'Bus23_5.out', 'Bus23_6.out', 'Bus23_7.out', 'Bus23_8.out', 'Bus23_9.out', 'Bus23_10.out', 'Bus23_11.out', 'Bus23_12.out', 'Bus23_13.out']\n",
            "CSV file saved for Bus23\n",
            "['Bus38_0.out', 'Bus38_1.out', 'Bus38_2.out', 'Bus38_3.out', 'Bus38_4.out', 'Bus38_5.out', 'Bus38_6.out', 'Bus38_7.out', 'Bus38_8.out', 'Bus38_9.out', 'Bus38_10.out', 'Bus38_11.out', 'Bus38_12.out', 'Bus38_13.out']\n",
            "CSV file saved for Bus38\n",
            "['Bus78_0.out', 'Bus78_1.out', 'Bus78_2.out', 'Bus78_3.out', 'Bus78_4.out', 'Bus78_5.out', 'Bus78_6.out', 'Bus78_7.out', 'Bus78_8.out', 'Bus78_9.out', 'Bus78_10.out', 'Bus78_11.out', 'Bus78_12.out', 'Bus78_13.out']\n",
            "CSV file saved for Bus78\n",
            "['Bus34_0.out', 'Bus34_1.out', 'Bus34_2.out', 'Bus34_3.out', 'Bus34_4.out', 'Bus34_5.out', 'Bus34_6.out', 'Bus34_7.out', 'Bus34_8.out', 'Bus34_9.out', 'Bus34_10.out', 'Bus34_11.out', 'Bus34_12.out', 'Bus34_13.out']\n",
            "CSV file saved for Bus34\n",
            "['normal_0.out', 'normal_1.out', 'normal_2.out', 'normal_3.out', 'normal_4.out', 'normal_5.out', 'normal_6.out', 'normal_7.out', 'normal_8.out', 'normal_9.out', 'normal_10.out', 'normal_11.out', 'normal_12.out', 'normal_13.out']\n",
            "CSV file saved for normal\n",
            "['Bus12_0.out', 'Bus12_1.out', 'Bus12_2.out', 'Bus12_3.out', 'Bus12_4.out', 'Bus12_5.out', 'Bus12_6.out', 'Bus12_7.out', 'Bus12_8.out', 'Bus12_9.out', 'Bus12_10.out', 'Bus12_11.out', 'Bus12_12.out', 'Bus12_13.out']\n",
            "CSV file saved for Bus12\n",
            "['Bus411_0.out', 'Bus411_1.out', 'Bus411_2.out', 'Bus411_3.out', 'Bus411_4.out', 'Bus411_5.out', 'Bus411_6.out', 'Bus411_7.out', 'Bus411_8.out', 'Bus411_9.out', 'Bus411_10.out', 'Bus411_11.out', 'Bus411_12.out', 'Bus411_13.out']\n",
            "CSV file saved for Bus411\n",
            "['Bus45_0.out', 'Bus45_1.out', 'Bus45_2.out', 'Bus45_3.out', 'Bus45_4.out', 'Bus45_5.out', 'Bus45_6.out', 'Bus45_7.out', 'Bus45_8.out', 'Bus45_9.out', 'Bus45_10.out', 'Bus45_11.out', 'Bus45_12.out', 'Bus45_13.out']\n",
            "CSV file saved for Bus45\n",
            "['Bus1011_0.out', 'Bus1011_1.out', 'Bus1011_2.out', 'Bus1011_3.out', 'Bus1011_4.out', 'Bus1011_5.out', 'Bus1011_6.out', 'Bus1011_7.out', 'Bus1011_8.out', 'Bus1011_9.out', 'Bus1011_10.out', 'Bus1011_11.out', 'Bus1011_12.out', 'Bus1011_13.out']\n",
            "CSV file saved for Bus1011\n",
            "['Bus56_0.out', 'Bus56_1.out', 'Bus56_2.out', 'Bus56_3.out', 'Bus56_4.out', 'Bus56_5.out', 'Bus56_6.out', 'Bus56_7.out', 'Bus56_8.out', 'Bus56_9.out', 'Bus56_10.out', 'Bus56_11.out', 'Bus56_12.out', 'Bus56_13.out']\n",
            "CSV file saved for Bus56\n",
            "['load_0.out', 'load_1.out', 'load_2.out', 'load_3.out', 'load_4.out', 'load_5.out', 'load_6.out', 'load_7.out', 'load_8.out', 'load_9.out', 'load_10.out', 'load_11.out', 'load_12.out', 'load_13.out']\n",
            "CSV file saved for load\n",
            "['Bus67_0.out', 'Bus67_1.out', 'Bus67_2.out', 'Bus67_3.out', 'Bus67_4.out', 'Bus67_5.out', 'Bus67_6.out', 'Bus67_7.out', 'Bus67_8.out', 'Bus67_9.out', 'Bus67_10.out', 'Bus67_11.out', 'Bus67_12.out', 'Bus67_13.out']\n",
            "CSV file saved for Bus67\n",
            "['Bus910_0.out', 'Bus910_1.out', 'Bus910_2.out', 'Bus910_3.out', 'Bus910_4.out', 'Bus910_5.out', 'Bus910_6.out', 'Bus910_7.out', 'Bus910_8.out', 'Bus910_9.out', 'Bus910_10.out', 'Bus910_11.out', 'Bus910_12.out', 'Bus910_13.out']\n",
            "CSV file saved for Bus910\n",
            "['Bus89_0.out', 'Bus89_1.out', 'Bus89_2.out', 'Bus89_3.out', 'Bus89_4.out', 'Bus89_5.out', 'Bus89_6.out', 'Bus89_7.out', 'Bus89_8.out', 'Bus89_9.out', 'Bus89_10.out', 'Bus89_11.out', 'Bus89_12.out', 'Bus89_13.out']\n",
            "CSV file saved for Bus89\n"
          ]
        }
      ]
    },
    {
      "cell_type": "markdown",
      "source": [
        "###Download CSV files"
      ],
      "metadata": {
        "id": "v8fq2Huc75LH"
      }
    },
    {
      "cell_type": "code",
      "source": [
        "import os\n",
        "from google.colab import files\n",
        "for filename in os.listdir(data_directory):\n",
        "    if filename.endswith('.csv'):\n",
        "        file_path = os.path.join(data_directory, filename)\n",
        "        # Download the file\n",
        "        files.download(file_path)\n"
      ],
      "metadata": {
        "id": "OCTMWnvA2Umn"
      },
      "execution_count": null,
      "outputs": []
    },
    {
      "cell_type": "code",
      "source": [],
      "metadata": {
        "id": "JlQW7uKGxBZ3"
      },
      "execution_count": null,
      "outputs": []
    }
  ]
}