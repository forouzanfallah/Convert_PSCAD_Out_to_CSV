{
  "nbformat": 4,
  "nbformat_minor": 0,
  "metadata": {
    "colab": {
      "provenance": [],
      "authorship_tag": "ABX9TyPULU5kZzpdm083uW0AUF4G",
      "include_colab_link": true
    },
    "kernelspec": {
      "name": "python3",
      "display_name": "Python 3"
    },
    "language_info": {
      "name": "python"
    }
  },
  "cells": [
    {
      "cell_type": "markdown",
      "metadata": {
        "id": "view-in-github",
        "colab_type": "text"
      },
      "source": [
        "<a href=\"https://colab.research.google.com/github/forouzanfallah/Convert_PSCAD_Out_to_CSV/blob/main/Convert_Out_to_NPY_Customized.ipynb\" target=\"_parent\"><img src=\"https://colab.research.google.com/assets/colab-badge.svg\" alt=\"Open In Colab\"/></a>"
      ]
    },
    {
      "cell_type": "markdown",
      "source": [
        "###Connect to Google Drive"
      ],
      "metadata": {
        "id": "Blaj-03W8deC"
      }
    },
    {
      "cell_type": "code",
      "source": [
        "from google.colab import drive\n",
        "drive.mount('/content/drive')\n"
      ],
      "metadata": {
        "colab": {
          "base_uri": "https://localhost:8080/"
        },
        "id": "y8JtnMEzkg8r",
        "outputId": "0761d332-19a3-43c7-85a0-5ed1d5f82413"
      },
      "execution_count": 11,
      "outputs": [
        {
          "output_type": "stream",
          "name": "stdout",
          "text": [
            "Drive already mounted at /content/drive; to attempt to forcibly remount, call drive.mount(\"/content/drive\", force_remount=True).\n"
          ]
        }
      ]
    },
    {
      "cell_type": "markdown",
      "source": [
        "###NPY Format"
      ],
      "metadata": {
        "id": "Nt2zWanFaVLK"
      }
    },
    {
      "cell_type": "code",
      "source": [
        "import pandas as pd\n",
        "import numpy as np\n",
        "\n",
        "# Step 1: Read CSV Data\n",
        "df = pd.read_csv('/content/drive/MyDrive/dataCig/Bus23.csv')\n",
        "\n",
        "# Step 2: Preprocess Data\n",
        "\n",
        "# Step 3: Convert to NumPy Array\n",
        "np_array = df.to_numpy()\n",
        "\n",
        "# Step 4: Save as `.npy` File\n",
        "np.save('Bus23.npy', np_array)\n"
      ],
      "metadata": {
        "id": "mzch8VA2Xcp7"
      },
      "execution_count": 2,
      "outputs": []
    },
    {
      "cell_type": "code",
      "source": [
        "import pandas as pd\n",
        "import numpy as np\n",
        "\n",
        "# Read the .csv file\n",
        "csv_df = pd.read_csv('/content/drive/MyDrive/dataCig/Bus23.csv')\n",
        "\n",
        "# Read the .npy file and convert it to a pandas DataFrame\n",
        "npy_data = np.load('/content/Bus23.npy')\n",
        "npy_df = pd.DataFrame(npy_data)\n",
        "\n",
        "# Compare the two DataFrames\n",
        "# Check if they have the same shape\n",
        "same_shape = csv_df.shape == npy_df.shape\n",
        "\n",
        "# Check if they have the same data values, ignoring column names\n",
        "same_values = np.array_equal(csv_df.values, npy_df.values)\n",
        "\n",
        "# Output the results\n",
        "print(\"Same Shape:\", same_shape)\n",
        "print(\"Same Values:\", same_values)\n"
      ],
      "metadata": {
        "colab": {
          "base_uri": "https://localhost:8080/"
        },
        "id": "1o4V8HbUYGE5",
        "outputId": "ac55b45e-fd3d-4305-adc9-aaf2292b6f5d"
      },
      "execution_count": 9,
      "outputs": [
        {
          "output_type": "stream",
          "name": "stdout",
          "text": [
            "Same Shape: True\n",
            "Same Values: True\n"
          ]
        }
      ]
    },
    {
      "cell_type": "markdown",
      "source": [
        "###Directories"
      ],
      "metadata": {
        "id": "P4pL0eok8hvn"
      }
    },
    {
      "cell_type": "code",
      "source": [
        "import zipfile\n",
        "import os\n",
        "\n",
        "# Replace this with the path to your ZIP file\n",
        "zip_file_path = '/content/drive/MyDrive/dataCig/data.zip'\n",
        "\n",
        "# Replace this with the path where you want to extract the files and store CSV files\n",
        "data_directory = '/content/CIGRE'\n",
        "\n",
        "os.makedirs(data_directory, exist_ok=True)\n",
        "\n",
        "with zipfile.ZipFile(zip_file_path, 'r') as zip_ref:\n",
        "    zip_ref.extractall(data_directory)\n",
        "\n",
        "print(f\"Files extracted to {data_directory}\")\n"
      ],
      "metadata": {
        "colab": {
          "base_uri": "https://localhost:8080/"
        },
        "id": "pXd1KZJek1JB",
        "outputId": "e8c161d5-7404-40bb-83aa-83ee7eeb13bd"
      },
      "execution_count": 12,
      "outputs": [
        {
          "output_type": "stream",
          "name": "stdout",
          "text": [
            "Files extracted to /content/CIGRE\n"
          ]
        }
      ]
    },
    {
      "cell_type": "markdown",
      "source": [
        "###OUT to CSV"
      ],
      "metadata": {
        "id": "qmc1Dnxd8BfV"
      }
    },
    {
      "cell_type": "code",
      "source": [
        "import pandas as pd\n",
        "import re\n",
        "import os\n",
        "\n",
        "# Define your headers here. This is just an example.\n",
        "headers = ['time', 'I12:1', 'I12:2', 'I12:3', 'I1213:1', 'I1213:2', 'I1213:3', 'I23:1', 'I23:2', 'I23:3', 'I1314:1', 'I1314:2', 'I1314:3', 'I34:1', 'I34:2', 'I34:3', 'I38:1', 'I38:2', 'I38:3', 'I12:1', 'I12:2', 'I12:3', 'I13:1', 'I13:2', 'I13:3', 'I148:1', 'I148:2', 'I148:3', 'I14:1', 'I14:2', 'I14:3', 'I83:1', 'I83:2', 'I83:3', 'I45:1', 'I45:2', 'I45:3', 'I89:1', 'I89:2', 'I89:3', 'I411:1', 'I411:2', 'I411:3', 'I87:1', 'I87:2', 'I87:3', 'I114:1', 'I114:2', 'I114:3', 'I76:1', 'I76:2', 'I76:3', 'I1110:1', 'I1110:2', 'I1110:3', 'I910:1', 'I910:2', 'I910:3', 'I56:1', 'I56:2', 'I56:3', 'I67:1', 'I67:2', 'I67:3', 'I65:1', 'I65:2', 'I65:3', 'I109:1', 'I109:2', 'I109:3', 'I1011:1', 'I1011:2', 'I1011:3', 'I54:1', 'I54:2', 'I54:3', 'I98:1', 'I98:2', 'I98:3', 'I78:1', 'I78:2', 'I78:3', 'I814:1', 'I814:2', 'I814:3', 'I43:1', 'I43:2', 'I43:3', 'I1413:1', 'I1413:2', 'I1413:3', 'I11:1', 'I11:2', 'I11:3', 'I32:1', 'I32:2', 'I32:3', 'I10:1', 'I10:2', 'I10:3', 'I9:1', 'I9:2', 'I9:3', 'I1312:1', 'I1312:2', 'I1312:3', 'I8:1', 'I8:2', 'I8:3', 'I7:1', 'I7:2', 'I7:3', 'I21:1', 'I21:2', 'I21:3', 'I6:1', 'I6:2', 'I6:3', 'I5:1', 'I5:2', 'I5:3', 'I4:1', 'I4:2', 'I4:3', 'I3:1', 'I3:2', 'I3:3', 'I2:1', 'I2:2', 'I2:3', 'I1:1', 'I1:2', 'I1:3']\n",
        "\n",
        "for folder in os.listdir(data_directory):\n",
        "    folder_path = os.path.join(data_directory, folder)\n",
        "\n",
        "    if os.path.isdir(folder_path):\n",
        "        # List .out files in the directory\n",
        "        file_names = [f for f in os.listdir(folder_path) if f.endswith('.out')]\n",
        "        file_names.sort(key=lambda x: int(re.search(r'_(\\d+)', x).group(1)))\n",
        "        print(file_names)\n",
        "\n",
        "        dfs = []\n",
        "        for idx, file_name in enumerate(file_names):\n",
        "            try:\n",
        "                with open(os.path.join(folder_path, file_name), 'r') as file:\n",
        "                    lines = file.readlines()\n",
        "                data = [[float(val) for val in line.split()] for line in lines]\n",
        "                df = pd.DataFrame(data)\n",
        "                if idx > 0:\n",
        "                    df = df.drop(df.columns[0], axis=1)\n",
        "                dfs.append(df)\n",
        "            except Exception as e:\n",
        "                print(f\"Error reading {file_name}: {e}\")\n",
        "\n",
        "        final_df = pd.concat(dfs, axis=1)\n",
        "\n",
        "        # Adjust headers based on the number of columns in final_df\n",
        "        num_cols = final_df.shape[1]\n",
        "        if num_cols > len(headers):\n",
        "            # Extend the headers list if there are more columns than predefined headers\n",
        "            final_df = final_df.iloc[:, :len(headers)]\n",
        "        elif num_cols < len(headers):\n",
        "            # Truncate the headers list if there are fewer columns than predefined headers\n",
        "            headers = headers[:num_cols]\n",
        "\n",
        "        final_df.columns = headers\n",
        "\n",
        "        # # Save the DataFrame to a CSV file\n",
        "        # final_df.to_csv(os.path.join(data_directory, f'{folder}.csv'), index=False)\n",
        "        # print(f'CSV file saved for {folder}')\n",
        "\n",
        "        # Save the NumPy array to a .npy file\n",
        "        data_array = final_df.to_numpy()\n",
        "        npy_file_path = os.path.join(data_directory, f'{folder}.npy')\n",
        "        np.save(npy_file_path, data_array)\n",
        "        print(f'Numpy .npy file saved for {folder}')\n"
      ],
      "metadata": {
        "colab": {
          "base_uri": "https://localhost:8080/"
        },
        "id": "xqBquU6ZU5mv",
        "outputId": "7e535ed2-374c-4220-fcb4-cd58314b1d1d"
      },
      "execution_count": 13,
      "outputs": [
        {
          "output_type": "stream",
          "name": "stdout",
          "text": [
            "['Bus23_0.out', 'Bus23_1.out', 'Bus23_2.out', 'Bus23_3.out', 'Bus23_4.out', 'Bus23_5.out', 'Bus23_6.out', 'Bus23_7.out', 'Bus23_8.out', 'Bus23_9.out', 'Bus23_10.out', 'Bus23_11.out', 'Bus23_12.out', 'Bus23_13.out']\n",
            "Numpy .npy file saved for Bus23\n",
            "['Bus38_0.out', 'Bus38_1.out', 'Bus38_2.out', 'Bus38_3.out', 'Bus38_4.out', 'Bus38_5.out', 'Bus38_6.out', 'Bus38_7.out', 'Bus38_8.out', 'Bus38_9.out', 'Bus38_10.out', 'Bus38_11.out', 'Bus38_12.out', 'Bus38_13.out']\n",
            "Numpy .npy file saved for Bus38\n",
            "['Bus78_0.out', 'Bus78_1.out', 'Bus78_2.out', 'Bus78_3.out', 'Bus78_4.out', 'Bus78_5.out', 'Bus78_6.out', 'Bus78_7.out', 'Bus78_8.out', 'Bus78_9.out', 'Bus78_10.out', 'Bus78_11.out', 'Bus78_12.out', 'Bus78_13.out']\n",
            "Numpy .npy file saved for Bus78\n",
            "['Bus34_0.out', 'Bus34_1.out', 'Bus34_2.out', 'Bus34_3.out', 'Bus34_4.out', 'Bus34_5.out', 'Bus34_6.out', 'Bus34_7.out', 'Bus34_8.out', 'Bus34_9.out', 'Bus34_10.out', 'Bus34_11.out', 'Bus34_12.out', 'Bus34_13.out']\n",
            "Numpy .npy file saved for Bus34\n",
            "['normal_0.out', 'normal_1.out', 'normal_2.out', 'normal_3.out', 'normal_4.out', 'normal_5.out', 'normal_6.out', 'normal_7.out', 'normal_8.out', 'normal_9.out', 'normal_10.out', 'normal_11.out', 'normal_12.out', 'normal_13.out']\n",
            "Numpy .npy file saved for normal\n",
            "['Bus12_0.out', 'Bus12_1.out', 'Bus12_2.out', 'Bus12_3.out', 'Bus12_4.out', 'Bus12_5.out', 'Bus12_6.out', 'Bus12_7.out', 'Bus12_8.out', 'Bus12_9.out', 'Bus12_10.out', 'Bus12_11.out', 'Bus12_12.out', 'Bus12_13.out']\n",
            "Numpy .npy file saved for Bus12\n",
            "['Bus411_0.out', 'Bus411_1.out', 'Bus411_2.out', 'Bus411_3.out', 'Bus411_4.out', 'Bus411_5.out', 'Bus411_6.out', 'Bus411_7.out', 'Bus411_8.out', 'Bus411_9.out', 'Bus411_10.out', 'Bus411_11.out', 'Bus411_12.out', 'Bus411_13.out']\n",
            "Numpy .npy file saved for Bus411\n",
            "['Bus45_0.out', 'Bus45_1.out', 'Bus45_2.out', 'Bus45_3.out', 'Bus45_4.out', 'Bus45_5.out', 'Bus45_6.out', 'Bus45_7.out', 'Bus45_8.out', 'Bus45_9.out', 'Bus45_10.out', 'Bus45_11.out', 'Bus45_12.out', 'Bus45_13.out']\n",
            "Numpy .npy file saved for Bus45\n",
            "['Bus1011_0.out', 'Bus1011_1.out', 'Bus1011_2.out', 'Bus1011_3.out', 'Bus1011_4.out', 'Bus1011_5.out', 'Bus1011_6.out', 'Bus1011_7.out', 'Bus1011_8.out', 'Bus1011_9.out', 'Bus1011_10.out', 'Bus1011_11.out', 'Bus1011_12.out', 'Bus1011_13.out']\n",
            "Numpy .npy file saved for Bus1011\n",
            "['Bus56_0.out', 'Bus56_1.out', 'Bus56_2.out', 'Bus56_3.out', 'Bus56_4.out', 'Bus56_5.out', 'Bus56_6.out', 'Bus56_7.out', 'Bus56_8.out', 'Bus56_9.out', 'Bus56_10.out', 'Bus56_11.out', 'Bus56_12.out', 'Bus56_13.out']\n",
            "Numpy .npy file saved for Bus56\n",
            "['load_0.out', 'load_1.out', 'load_2.out', 'load_3.out', 'load_4.out', 'load_5.out', 'load_6.out', 'load_7.out', 'load_8.out', 'load_9.out', 'load_10.out', 'load_11.out', 'load_12.out', 'load_13.out']\n",
            "Numpy .npy file saved for load\n",
            "['Bus67_0.out', 'Bus67_1.out', 'Bus67_2.out', 'Bus67_3.out', 'Bus67_4.out', 'Bus67_5.out', 'Bus67_6.out', 'Bus67_7.out', 'Bus67_8.out', 'Bus67_9.out', 'Bus67_10.out', 'Bus67_11.out', 'Bus67_12.out', 'Bus67_13.out']\n",
            "Numpy .npy file saved for Bus67\n",
            "['Bus910_0.out', 'Bus910_1.out', 'Bus910_2.out', 'Bus910_3.out', 'Bus910_4.out', 'Bus910_5.out', 'Bus910_6.out', 'Bus910_7.out', 'Bus910_8.out', 'Bus910_9.out', 'Bus910_10.out', 'Bus910_11.out', 'Bus910_12.out', 'Bus910_13.out']\n",
            "Numpy .npy file saved for Bus910\n",
            "['Bus89_0.out', 'Bus89_1.out', 'Bus89_2.out', 'Bus89_3.out', 'Bus89_4.out', 'Bus89_5.out', 'Bus89_6.out', 'Bus89_7.out', 'Bus89_8.out', 'Bus89_9.out', 'Bus89_10.out', 'Bus89_11.out', 'Bus89_12.out', 'Bus89_13.out']\n",
            "Numpy .npy file saved for Bus89\n"
          ]
        }
      ]
    },
    {
      "cell_type": "markdown",
      "source": [
        "###Download CSV files"
      ],
      "metadata": {
        "id": "v8fq2Huc75LH"
      }
    },
    {
      "cell_type": "code",
      "source": [
        "import os\n",
        "from google.colab import files\n",
        "for filename in os.listdir(data_directory):\n",
        "    if filename.endswith('.csv'):\n",
        "        file_path = os.path.join(data_directory, filename)\n",
        "        # Download the file\n",
        "        files.download(file_path)\n"
      ],
      "metadata": {
        "id": "OCTMWnvA2Umn"
      },
      "execution_count": null,
      "outputs": []
    },
    {
      "cell_type": "markdown",
      "source": [
        "###Download NPY files"
      ],
      "metadata": {
        "id": "lAk_LvJdbI8t"
      }
    },
    {
      "cell_type": "code",
      "source": [
        "import os\n",
        "from google.colab import files\n",
        "for filename in os.listdir(data_directory):\n",
        "    if filename.endswith('.npy'):\n",
        "        file_path = os.path.join(data_directory, filename)\n",
        "        # Download the file\n",
        "        files.download(file_path)"
      ],
      "metadata": {
        "id": "JlQW7uKGxBZ3",
        "colab": {
          "base_uri": "https://localhost:8080/",
          "height": 260
        },
        "outputId": "2b9f09e5-3f0c-4c5d-fed9-3835909889d6"
      },
      "execution_count": 14,
      "outputs": [
        {
          "output_type": "display_data",
          "data": {
            "text/plain": [
              "<IPython.core.display.Javascript object>"
            ],
            "application/javascript": [
              "\n",
              "    async function download(id, filename, size) {\n",
              "      if (!google.colab.kernel.accessAllowed) {\n",
              "        return;\n",
              "      }\n",
              "      const div = document.createElement('div');\n",
              "      const label = document.createElement('label');\n",
              "      label.textContent = `Downloading \"${filename}\": `;\n",
              "      div.appendChild(label);\n",
              "      const progress = document.createElement('progress');\n",
              "      progress.max = size;\n",
              "      div.appendChild(progress);\n",
              "      document.body.appendChild(div);\n",
              "\n",
              "      const buffers = [];\n",
              "      let downloaded = 0;\n",
              "\n",
              "      const channel = await google.colab.kernel.comms.open(id);\n",
              "      // Send a message to notify the kernel that we're ready.\n",
              "      channel.send({})\n",
              "\n",
              "      for await (const message of channel.messages) {\n",
              "        // Send a message to notify the kernel that we're ready.\n",
              "        channel.send({})\n",
              "        if (message.buffers) {\n",
              "          for (const buffer of message.buffers) {\n",
              "            buffers.push(buffer);\n",
              "            downloaded += buffer.byteLength;\n",
              "            progress.value = downloaded;\n",
              "          }\n",
              "        }\n",
              "      }\n",
              "      const blob = new Blob(buffers, {type: 'application/binary'});\n",
              "      const a = document.createElement('a');\n",
              "      a.href = window.URL.createObjectURL(blob);\n",
              "      a.download = filename;\n",
              "      div.appendChild(a);\n",
              "      a.click();\n",
              "      div.remove();\n",
              "    }\n",
              "  "
            ]
          },
          "metadata": {}
        },
        {
          "output_type": "display_data",
          "data": {
            "text/plain": [
              "<IPython.core.display.Javascript object>"
            ],
            "application/javascript": [
              "download(\"download_d3c78dd2-3923-406c-bd85-fe44365787db\", \"Bus67.npy\", 22167504)"
            ]
          },
          "metadata": {}
        },
        {
          "output_type": "display_data",
          "data": {
            "text/plain": [
              "<IPython.core.display.Javascript object>"
            ],
            "application/javascript": [
              "\n",
              "    async function download(id, filename, size) {\n",
              "      if (!google.colab.kernel.accessAllowed) {\n",
              "        return;\n",
              "      }\n",
              "      const div = document.createElement('div');\n",
              "      const label = document.createElement('label');\n",
              "      label.textContent = `Downloading \"${filename}\": `;\n",
              "      div.appendChild(label);\n",
              "      const progress = document.createElement('progress');\n",
              "      progress.max = size;\n",
              "      div.appendChild(progress);\n",
              "      document.body.appendChild(div);\n",
              "\n",
              "      const buffers = [];\n",
              "      let downloaded = 0;\n",
              "\n",
              "      const channel = await google.colab.kernel.comms.open(id);\n",
              "      // Send a message to notify the kernel that we're ready.\n",
              "      channel.send({})\n",
              "\n",
              "      for await (const message of channel.messages) {\n",
              "        // Send a message to notify the kernel that we're ready.\n",
              "        channel.send({})\n",
              "        if (message.buffers) {\n",
              "          for (const buffer of message.buffers) {\n",
              "            buffers.push(buffer);\n",
              "            downloaded += buffer.byteLength;\n",
              "            progress.value = downloaded;\n",
              "          }\n",
              "        }\n",
              "      }\n",
              "      const blob = new Blob(buffers, {type: 'application/binary'});\n",
              "      const a = document.createElement('a');\n",
              "      a.href = window.URL.createObjectURL(blob);\n",
              "      a.download = filename;\n",
              "      div.appendChild(a);\n",
              "      a.click();\n",
              "      div.remove();\n",
              "    }\n",
              "  "
            ]
          },
          "metadata": {}
        },
        {
          "output_type": "display_data",
          "data": {
            "text/plain": [
              "<IPython.core.display.Javascript object>"
            ],
            "application/javascript": [
              "download(\"download_06c6bacb-62bf-4ca1-aaeb-13f796897a8e\", \"Bus38.npy\", 22167504)"
            ]
          },
          "metadata": {}
        },
        {
          "output_type": "display_data",
          "data": {
            "text/plain": [
              "<IPython.core.display.Javascript object>"
            ],
            "application/javascript": [
              "\n",
              "    async function download(id, filename, size) {\n",
              "      if (!google.colab.kernel.accessAllowed) {\n",
              "        return;\n",
              "      }\n",
              "      const div = document.createElement('div');\n",
              "      const label = document.createElement('label');\n",
              "      label.textContent = `Downloading \"${filename}\": `;\n",
              "      div.appendChild(label);\n",
              "      const progress = document.createElement('progress');\n",
              "      progress.max = size;\n",
              "      div.appendChild(progress);\n",
              "      document.body.appendChild(div);\n",
              "\n",
              "      const buffers = [];\n",
              "      let downloaded = 0;\n",
              "\n",
              "      const channel = await google.colab.kernel.comms.open(id);\n",
              "      // Send a message to notify the kernel that we're ready.\n",
              "      channel.send({})\n",
              "\n",
              "      for await (const message of channel.messages) {\n",
              "        // Send a message to notify the kernel that we're ready.\n",
              "        channel.send({})\n",
              "        if (message.buffers) {\n",
              "          for (const buffer of message.buffers) {\n",
              "            buffers.push(buffer);\n",
              "            downloaded += buffer.byteLength;\n",
              "            progress.value = downloaded;\n",
              "          }\n",
              "        }\n",
              "      }\n",
              "      const blob = new Blob(buffers, {type: 'application/binary'});\n",
              "      const a = document.createElement('a');\n",
              "      a.href = window.URL.createObjectURL(blob);\n",
              "      a.download = filename;\n",
              "      div.appendChild(a);\n",
              "      a.click();\n",
              "      div.remove();\n",
              "    }\n",
              "  "
            ]
          },
          "metadata": {}
        },
        {
          "output_type": "display_data",
          "data": {
            "text/plain": [
              "<IPython.core.display.Javascript object>"
            ],
            "application/javascript": [
              "download(\"download_e62c6489-80e8-410b-8b91-56978e12c450\", \"Bus89.npy\", 22167504)"
            ]
          },
          "metadata": {}
        },
        {
          "output_type": "display_data",
          "data": {
            "text/plain": [
              "<IPython.core.display.Javascript object>"
            ],
            "application/javascript": [
              "\n",
              "    async function download(id, filename, size) {\n",
              "      if (!google.colab.kernel.accessAllowed) {\n",
              "        return;\n",
              "      }\n",
              "      const div = document.createElement('div');\n",
              "      const label = document.createElement('label');\n",
              "      label.textContent = `Downloading \"${filename}\": `;\n",
              "      div.appendChild(label);\n",
              "      const progress = document.createElement('progress');\n",
              "      progress.max = size;\n",
              "      div.appendChild(progress);\n",
              "      document.body.appendChild(div);\n",
              "\n",
              "      const buffers = [];\n",
              "      let downloaded = 0;\n",
              "\n",
              "      const channel = await google.colab.kernel.comms.open(id);\n",
              "      // Send a message to notify the kernel that we're ready.\n",
              "      channel.send({})\n",
              "\n",
              "      for await (const message of channel.messages) {\n",
              "        // Send a message to notify the kernel that we're ready.\n",
              "        channel.send({})\n",
              "        if (message.buffers) {\n",
              "          for (const buffer of message.buffers) {\n",
              "            buffers.push(buffer);\n",
              "            downloaded += buffer.byteLength;\n",
              "            progress.value = downloaded;\n",
              "          }\n",
              "        }\n",
              "      }\n",
              "      const blob = new Blob(buffers, {type: 'application/binary'});\n",
              "      const a = document.createElement('a');\n",
              "      a.href = window.URL.createObjectURL(blob);\n",
              "      a.download = filename;\n",
              "      div.appendChild(a);\n",
              "      a.click();\n",
              "      div.remove();\n",
              "    }\n",
              "  "
            ]
          },
          "metadata": {}
        },
        {
          "output_type": "display_data",
          "data": {
            "text/plain": [
              "<IPython.core.display.Javascript object>"
            ],
            "application/javascript": [
              "download(\"download_3022a3b7-3d09-47da-a4d3-3e183d9fecda\", \"Bus34.npy\", 22167504)"
            ]
          },
          "metadata": {}
        },
        {
          "output_type": "display_data",
          "data": {
            "text/plain": [
              "<IPython.core.display.Javascript object>"
            ],
            "application/javascript": [
              "\n",
              "    async function download(id, filename, size) {\n",
              "      if (!google.colab.kernel.accessAllowed) {\n",
              "        return;\n",
              "      }\n",
              "      const div = document.createElement('div');\n",
              "      const label = document.createElement('label');\n",
              "      label.textContent = `Downloading \"${filename}\": `;\n",
              "      div.appendChild(label);\n",
              "      const progress = document.createElement('progress');\n",
              "      progress.max = size;\n",
              "      div.appendChild(progress);\n",
              "      document.body.appendChild(div);\n",
              "\n",
              "      const buffers = [];\n",
              "      let downloaded = 0;\n",
              "\n",
              "      const channel = await google.colab.kernel.comms.open(id);\n",
              "      // Send a message to notify the kernel that we're ready.\n",
              "      channel.send({})\n",
              "\n",
              "      for await (const message of channel.messages) {\n",
              "        // Send a message to notify the kernel that we're ready.\n",
              "        channel.send({})\n",
              "        if (message.buffers) {\n",
              "          for (const buffer of message.buffers) {\n",
              "            buffers.push(buffer);\n",
              "            downloaded += buffer.byteLength;\n",
              "            progress.value = downloaded;\n",
              "          }\n",
              "        }\n",
              "      }\n",
              "      const blob = new Blob(buffers, {type: 'application/binary'});\n",
              "      const a = document.createElement('a');\n",
              "      a.href = window.URL.createObjectURL(blob);\n",
              "      a.download = filename;\n",
              "      div.appendChild(a);\n",
              "      a.click();\n",
              "      div.remove();\n",
              "    }\n",
              "  "
            ]
          },
          "metadata": {}
        },
        {
          "output_type": "display_data",
          "data": {
            "text/plain": [
              "<IPython.core.display.Javascript object>"
            ],
            "application/javascript": [
              "download(\"download_f68cd967-252a-4558-8cf3-319b234b841b\", \"Bus1011.npy\", 22167504)"
            ]
          },
          "metadata": {}
        },
        {
          "output_type": "display_data",
          "data": {
            "text/plain": [
              "<IPython.core.display.Javascript object>"
            ],
            "application/javascript": [
              "\n",
              "    async function download(id, filename, size) {\n",
              "      if (!google.colab.kernel.accessAllowed) {\n",
              "        return;\n",
              "      }\n",
              "      const div = document.createElement('div');\n",
              "      const label = document.createElement('label');\n",
              "      label.textContent = `Downloading \"${filename}\": `;\n",
              "      div.appendChild(label);\n",
              "      const progress = document.createElement('progress');\n",
              "      progress.max = size;\n",
              "      div.appendChild(progress);\n",
              "      document.body.appendChild(div);\n",
              "\n",
              "      const buffers = [];\n",
              "      let downloaded = 0;\n",
              "\n",
              "      const channel = await google.colab.kernel.comms.open(id);\n",
              "      // Send a message to notify the kernel that we're ready.\n",
              "      channel.send({})\n",
              "\n",
              "      for await (const message of channel.messages) {\n",
              "        // Send a message to notify the kernel that we're ready.\n",
              "        channel.send({})\n",
              "        if (message.buffers) {\n",
              "          for (const buffer of message.buffers) {\n",
              "            buffers.push(buffer);\n",
              "            downloaded += buffer.byteLength;\n",
              "            progress.value = downloaded;\n",
              "          }\n",
              "        }\n",
              "      }\n",
              "      const blob = new Blob(buffers, {type: 'application/binary'});\n",
              "      const a = document.createElement('a');\n",
              "      a.href = window.URL.createObjectURL(blob);\n",
              "      a.download = filename;\n",
              "      div.appendChild(a);\n",
              "      a.click();\n",
              "      div.remove();\n",
              "    }\n",
              "  "
            ]
          },
          "metadata": {}
        },
        {
          "output_type": "display_data",
          "data": {
            "text/plain": [
              "<IPython.core.display.Javascript object>"
            ],
            "application/javascript": [
              "download(\"download_0d05cdfc-9dd9-464f-9c63-65f265b88e65\", \"Bus12.npy\", 22167504)"
            ]
          },
          "metadata": {}
        },
        {
          "output_type": "display_data",
          "data": {
            "text/plain": [
              "<IPython.core.display.Javascript object>"
            ],
            "application/javascript": [
              "\n",
              "    async function download(id, filename, size) {\n",
              "      if (!google.colab.kernel.accessAllowed) {\n",
              "        return;\n",
              "      }\n",
              "      const div = document.createElement('div');\n",
              "      const label = document.createElement('label');\n",
              "      label.textContent = `Downloading \"${filename}\": `;\n",
              "      div.appendChild(label);\n",
              "      const progress = document.createElement('progress');\n",
              "      progress.max = size;\n",
              "      div.appendChild(progress);\n",
              "      document.body.appendChild(div);\n",
              "\n",
              "      const buffers = [];\n",
              "      let downloaded = 0;\n",
              "\n",
              "      const channel = await google.colab.kernel.comms.open(id);\n",
              "      // Send a message to notify the kernel that we're ready.\n",
              "      channel.send({})\n",
              "\n",
              "      for await (const message of channel.messages) {\n",
              "        // Send a message to notify the kernel that we're ready.\n",
              "        channel.send({})\n",
              "        if (message.buffers) {\n",
              "          for (const buffer of message.buffers) {\n",
              "            buffers.push(buffer);\n",
              "            downloaded += buffer.byteLength;\n",
              "            progress.value = downloaded;\n",
              "          }\n",
              "        }\n",
              "      }\n",
              "      const blob = new Blob(buffers, {type: 'application/binary'});\n",
              "      const a = document.createElement('a');\n",
              "      a.href = window.URL.createObjectURL(blob);\n",
              "      a.download = filename;\n",
              "      div.appendChild(a);\n",
              "      a.click();\n",
              "      div.remove();\n",
              "    }\n",
              "  "
            ]
          },
          "metadata": {}
        },
        {
          "output_type": "display_data",
          "data": {
            "text/plain": [
              "<IPython.core.display.Javascript object>"
            ],
            "application/javascript": [
              "download(\"download_2b9d789e-d652-4d73-b2df-f39c6df60aa1\", \"Bus45.npy\", 22167504)"
            ]
          },
          "metadata": {}
        },
        {
          "output_type": "display_data",
          "data": {
            "text/plain": [
              "<IPython.core.display.Javascript object>"
            ],
            "application/javascript": [
              "\n",
              "    async function download(id, filename, size) {\n",
              "      if (!google.colab.kernel.accessAllowed) {\n",
              "        return;\n",
              "      }\n",
              "      const div = document.createElement('div');\n",
              "      const label = document.createElement('label');\n",
              "      label.textContent = `Downloading \"${filename}\": `;\n",
              "      div.appendChild(label);\n",
              "      const progress = document.createElement('progress');\n",
              "      progress.max = size;\n",
              "      div.appendChild(progress);\n",
              "      document.body.appendChild(div);\n",
              "\n",
              "      const buffers = [];\n",
              "      let downloaded = 0;\n",
              "\n",
              "      const channel = await google.colab.kernel.comms.open(id);\n",
              "      // Send a message to notify the kernel that we're ready.\n",
              "      channel.send({})\n",
              "\n",
              "      for await (const message of channel.messages) {\n",
              "        // Send a message to notify the kernel that we're ready.\n",
              "        channel.send({})\n",
              "        if (message.buffers) {\n",
              "          for (const buffer of message.buffers) {\n",
              "            buffers.push(buffer);\n",
              "            downloaded += buffer.byteLength;\n",
              "            progress.value = downloaded;\n",
              "          }\n",
              "        }\n",
              "      }\n",
              "      const blob = new Blob(buffers, {type: 'application/binary'});\n",
              "      const a = document.createElement('a');\n",
              "      a.href = window.URL.createObjectURL(blob);\n",
              "      a.download = filename;\n",
              "      div.appendChild(a);\n",
              "      a.click();\n",
              "      div.remove();\n",
              "    }\n",
              "  "
            ]
          },
          "metadata": {}
        },
        {
          "output_type": "display_data",
          "data": {
            "text/plain": [
              "<IPython.core.display.Javascript object>"
            ],
            "application/javascript": [
              "download(\"download_dba3f3b4-6622-48f5-bf57-eb31dac8afbd\", \"load.npy\", 22167504)"
            ]
          },
          "metadata": {}
        },
        {
          "output_type": "display_data",
          "data": {
            "text/plain": [
              "<IPython.core.display.Javascript object>"
            ],
            "application/javascript": [
              "\n",
              "    async function download(id, filename, size) {\n",
              "      if (!google.colab.kernel.accessAllowed) {\n",
              "        return;\n",
              "      }\n",
              "      const div = document.createElement('div');\n",
              "      const label = document.createElement('label');\n",
              "      label.textContent = `Downloading \"${filename}\": `;\n",
              "      div.appendChild(label);\n",
              "      const progress = document.createElement('progress');\n",
              "      progress.max = size;\n",
              "      div.appendChild(progress);\n",
              "      document.body.appendChild(div);\n",
              "\n",
              "      const buffers = [];\n",
              "      let downloaded = 0;\n",
              "\n",
              "      const channel = await google.colab.kernel.comms.open(id);\n",
              "      // Send a message to notify the kernel that we're ready.\n",
              "      channel.send({})\n",
              "\n",
              "      for await (const message of channel.messages) {\n",
              "        // Send a message to notify the kernel that we're ready.\n",
              "        channel.send({})\n",
              "        if (message.buffers) {\n",
              "          for (const buffer of message.buffers) {\n",
              "            buffers.push(buffer);\n",
              "            downloaded += buffer.byteLength;\n",
              "            progress.value = downloaded;\n",
              "          }\n",
              "        }\n",
              "      }\n",
              "      const blob = new Blob(buffers, {type: 'application/binary'});\n",
              "      const a = document.createElement('a');\n",
              "      a.href = window.URL.createObjectURL(blob);\n",
              "      a.download = filename;\n",
              "      div.appendChild(a);\n",
              "      a.click();\n",
              "      div.remove();\n",
              "    }\n",
              "  "
            ]
          },
          "metadata": {}
        },
        {
          "output_type": "display_data",
          "data": {
            "text/plain": [
              "<IPython.core.display.Javascript object>"
            ],
            "application/javascript": [
              "download(\"download_f6dd6d0f-4d04-4f00-99da-e10f54805fd7\", \"normal.npy\", 22167504)"
            ]
          },
          "metadata": {}
        },
        {
          "output_type": "display_data",
          "data": {
            "text/plain": [
              "<IPython.core.display.Javascript object>"
            ],
            "application/javascript": [
              "\n",
              "    async function download(id, filename, size) {\n",
              "      if (!google.colab.kernel.accessAllowed) {\n",
              "        return;\n",
              "      }\n",
              "      const div = document.createElement('div');\n",
              "      const label = document.createElement('label');\n",
              "      label.textContent = `Downloading \"${filename}\": `;\n",
              "      div.appendChild(label);\n",
              "      const progress = document.createElement('progress');\n",
              "      progress.max = size;\n",
              "      div.appendChild(progress);\n",
              "      document.body.appendChild(div);\n",
              "\n",
              "      const buffers = [];\n",
              "      let downloaded = 0;\n",
              "\n",
              "      const channel = await google.colab.kernel.comms.open(id);\n",
              "      // Send a message to notify the kernel that we're ready.\n",
              "      channel.send({})\n",
              "\n",
              "      for await (const message of channel.messages) {\n",
              "        // Send a message to notify the kernel that we're ready.\n",
              "        channel.send({})\n",
              "        if (message.buffers) {\n",
              "          for (const buffer of message.buffers) {\n",
              "            buffers.push(buffer);\n",
              "            downloaded += buffer.byteLength;\n",
              "            progress.value = downloaded;\n",
              "          }\n",
              "        }\n",
              "      }\n",
              "      const blob = new Blob(buffers, {type: 'application/binary'});\n",
              "      const a = document.createElement('a');\n",
              "      a.href = window.URL.createObjectURL(blob);\n",
              "      a.download = filename;\n",
              "      div.appendChild(a);\n",
              "      a.click();\n",
              "      div.remove();\n",
              "    }\n",
              "  "
            ]
          },
          "metadata": {}
        },
        {
          "output_type": "display_data",
          "data": {
            "text/plain": [
              "<IPython.core.display.Javascript object>"
            ],
            "application/javascript": [
              "download(\"download_55ee3a25-7894-4884-896e-c84effb8fe85\", \"Bus910.npy\", 22167504)"
            ]
          },
          "metadata": {}
        },
        {
          "output_type": "display_data",
          "data": {
            "text/plain": [
              "<IPython.core.display.Javascript object>"
            ],
            "application/javascript": [
              "\n",
              "    async function download(id, filename, size) {\n",
              "      if (!google.colab.kernel.accessAllowed) {\n",
              "        return;\n",
              "      }\n",
              "      const div = document.createElement('div');\n",
              "      const label = document.createElement('label');\n",
              "      label.textContent = `Downloading \"${filename}\": `;\n",
              "      div.appendChild(label);\n",
              "      const progress = document.createElement('progress');\n",
              "      progress.max = size;\n",
              "      div.appendChild(progress);\n",
              "      document.body.appendChild(div);\n",
              "\n",
              "      const buffers = [];\n",
              "      let downloaded = 0;\n",
              "\n",
              "      const channel = await google.colab.kernel.comms.open(id);\n",
              "      // Send a message to notify the kernel that we're ready.\n",
              "      channel.send({})\n",
              "\n",
              "      for await (const message of channel.messages) {\n",
              "        // Send a message to notify the kernel that we're ready.\n",
              "        channel.send({})\n",
              "        if (message.buffers) {\n",
              "          for (const buffer of message.buffers) {\n",
              "            buffers.push(buffer);\n",
              "            downloaded += buffer.byteLength;\n",
              "            progress.value = downloaded;\n",
              "          }\n",
              "        }\n",
              "      }\n",
              "      const blob = new Blob(buffers, {type: 'application/binary'});\n",
              "      const a = document.createElement('a');\n",
              "      a.href = window.URL.createObjectURL(blob);\n",
              "      a.download = filename;\n",
              "      div.appendChild(a);\n",
              "      a.click();\n",
              "      div.remove();\n",
              "    }\n",
              "  "
            ]
          },
          "metadata": {}
        },
        {
          "output_type": "display_data",
          "data": {
            "text/plain": [
              "<IPython.core.display.Javascript object>"
            ],
            "application/javascript": [
              "download(\"download_aa5f7bcf-357a-47aa-8073-37399ceddf21\", \"Bus23.npy\", 22167504)"
            ]
          },
          "metadata": {}
        },
        {
          "output_type": "display_data",
          "data": {
            "text/plain": [
              "<IPython.core.display.Javascript object>"
            ],
            "application/javascript": [
              "\n",
              "    async function download(id, filename, size) {\n",
              "      if (!google.colab.kernel.accessAllowed) {\n",
              "        return;\n",
              "      }\n",
              "      const div = document.createElement('div');\n",
              "      const label = document.createElement('label');\n",
              "      label.textContent = `Downloading \"${filename}\": `;\n",
              "      div.appendChild(label);\n",
              "      const progress = document.createElement('progress');\n",
              "      progress.max = size;\n",
              "      div.appendChild(progress);\n",
              "      document.body.appendChild(div);\n",
              "\n",
              "      const buffers = [];\n",
              "      let downloaded = 0;\n",
              "\n",
              "      const channel = await google.colab.kernel.comms.open(id);\n",
              "      // Send a message to notify the kernel that we're ready.\n",
              "      channel.send({})\n",
              "\n",
              "      for await (const message of channel.messages) {\n",
              "        // Send a message to notify the kernel that we're ready.\n",
              "        channel.send({})\n",
              "        if (message.buffers) {\n",
              "          for (const buffer of message.buffers) {\n",
              "            buffers.push(buffer);\n",
              "            downloaded += buffer.byteLength;\n",
              "            progress.value = downloaded;\n",
              "          }\n",
              "        }\n",
              "      }\n",
              "      const blob = new Blob(buffers, {type: 'application/binary'});\n",
              "      const a = document.createElement('a');\n",
              "      a.href = window.URL.createObjectURL(blob);\n",
              "      a.download = filename;\n",
              "      div.appendChild(a);\n",
              "      a.click();\n",
              "      div.remove();\n",
              "    }\n",
              "  "
            ]
          },
          "metadata": {}
        },
        {
          "output_type": "display_data",
          "data": {
            "text/plain": [
              "<IPython.core.display.Javascript object>"
            ],
            "application/javascript": [
              "download(\"download_462697a4-7901-4dbb-acb2-6b828f292826\", \"Bus411.npy\", 22167504)"
            ]
          },
          "metadata": {}
        },
        {
          "output_type": "display_data",
          "data": {
            "text/plain": [
              "<IPython.core.display.Javascript object>"
            ],
            "application/javascript": [
              "\n",
              "    async function download(id, filename, size) {\n",
              "      if (!google.colab.kernel.accessAllowed) {\n",
              "        return;\n",
              "      }\n",
              "      const div = document.createElement('div');\n",
              "      const label = document.createElement('label');\n",
              "      label.textContent = `Downloading \"${filename}\": `;\n",
              "      div.appendChild(label);\n",
              "      const progress = document.createElement('progress');\n",
              "      progress.max = size;\n",
              "      div.appendChild(progress);\n",
              "      document.body.appendChild(div);\n",
              "\n",
              "      const buffers = [];\n",
              "      let downloaded = 0;\n",
              "\n",
              "      const channel = await google.colab.kernel.comms.open(id);\n",
              "      // Send a message to notify the kernel that we're ready.\n",
              "      channel.send({})\n",
              "\n",
              "      for await (const message of channel.messages) {\n",
              "        // Send a message to notify the kernel that we're ready.\n",
              "        channel.send({})\n",
              "        if (message.buffers) {\n",
              "          for (const buffer of message.buffers) {\n",
              "            buffers.push(buffer);\n",
              "            downloaded += buffer.byteLength;\n",
              "            progress.value = downloaded;\n",
              "          }\n",
              "        }\n",
              "      }\n",
              "      const blob = new Blob(buffers, {type: 'application/binary'});\n",
              "      const a = document.createElement('a');\n",
              "      a.href = window.URL.createObjectURL(blob);\n",
              "      a.download = filename;\n",
              "      div.appendChild(a);\n",
              "      a.click();\n",
              "      div.remove();\n",
              "    }\n",
              "  "
            ]
          },
          "metadata": {}
        },
        {
          "output_type": "display_data",
          "data": {
            "text/plain": [
              "<IPython.core.display.Javascript object>"
            ],
            "application/javascript": [
              "download(\"download_e5853b92-40ce-43a8-a8db-3ce9c823ce69\", \"Bus56.npy\", 22167504)"
            ]
          },
          "metadata": {}
        },
        {
          "output_type": "display_data",
          "data": {
            "text/plain": [
              "<IPython.core.display.Javascript object>"
            ],
            "application/javascript": [
              "\n",
              "    async function download(id, filename, size) {\n",
              "      if (!google.colab.kernel.accessAllowed) {\n",
              "        return;\n",
              "      }\n",
              "      const div = document.createElement('div');\n",
              "      const label = document.createElement('label');\n",
              "      label.textContent = `Downloading \"${filename}\": `;\n",
              "      div.appendChild(label);\n",
              "      const progress = document.createElement('progress');\n",
              "      progress.max = size;\n",
              "      div.appendChild(progress);\n",
              "      document.body.appendChild(div);\n",
              "\n",
              "      const buffers = [];\n",
              "      let downloaded = 0;\n",
              "\n",
              "      const channel = await google.colab.kernel.comms.open(id);\n",
              "      // Send a message to notify the kernel that we're ready.\n",
              "      channel.send({})\n",
              "\n",
              "      for await (const message of channel.messages) {\n",
              "        // Send a message to notify the kernel that we're ready.\n",
              "        channel.send({})\n",
              "        if (message.buffers) {\n",
              "          for (const buffer of message.buffers) {\n",
              "            buffers.push(buffer);\n",
              "            downloaded += buffer.byteLength;\n",
              "            progress.value = downloaded;\n",
              "          }\n",
              "        }\n",
              "      }\n",
              "      const blob = new Blob(buffers, {type: 'application/binary'});\n",
              "      const a = document.createElement('a');\n",
              "      a.href = window.URL.createObjectURL(blob);\n",
              "      a.download = filename;\n",
              "      div.appendChild(a);\n",
              "      a.click();\n",
              "      div.remove();\n",
              "    }\n",
              "  "
            ]
          },
          "metadata": {}
        },
        {
          "output_type": "display_data",
          "data": {
            "text/plain": [
              "<IPython.core.display.Javascript object>"
            ],
            "application/javascript": [
              "download(\"download_b6a43d5a-c502-49b5-868f-287ac044e84c\", \"Bus78.npy\", 22167504)"
            ]
          },
          "metadata": {}
        }
      ]
    }
  ]
}