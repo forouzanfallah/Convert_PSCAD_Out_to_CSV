{
  "nbformat": 4,
  "nbformat_minor": 0,
  "metadata": {
    "colab": {
      "provenance": [],
      "include_colab_link": true
    },
    "kernelspec": {
      "name": "python3",
      "display_name": "Python 3"
    },
    "language_info": {
      "name": "python"
    }
  },
  "cells": [
    {
      "cell_type": "markdown",
      "metadata": {
        "id": "view-in-github",
        "colab_type": "text"
      },
      "source": [
        "<a href=\"https://colab.research.google.com/github/forouzanfallah/Convert_PSCAD_Out_to_CSV/blob/main/Convert_Out_to_CSV.ipynb\" target=\"_parent\"><img src=\"https://colab.research.google.com/assets/colab-badge.svg\" alt=\"Open In Colab\"/></a>"
      ]
    },
    {
      "cell_type": "markdown",
      "source": [
        "###Connect to Google Drive"
      ],
      "metadata": {
        "id": "Blaj-03W8deC"
      }
    },
    {
      "cell_type": "code",
      "source": [
        "from google.colab import drive\n",
        "drive.mount('/content/drive')\n"
      ],
      "metadata": {
        "colab": {
          "base_uri": "https://localhost:8080/"
        },
        "id": "y8JtnMEzkg8r",
        "outputId": "88e4bce1-9724-4475-c739-1ee5462f7c96"
      },
      "execution_count": 1,
      "outputs": [
        {
          "output_type": "stream",
          "name": "stdout",
          "text": [
            "Mounted at /content/drive\n"
          ]
        }
      ]
    },
    {
      "cell_type": "markdown",
      "source": [
        "###Directories"
      ],
      "metadata": {
        "id": "P4pL0eok8hvn"
      }
    },
    {
      "cell_type": "code",
      "source": [
        "import zipfile\n",
        "import os\n",
        "\n",
        "# Replace this with the path to your ZIP file\n",
        "zip_file_path = '/content/drive/MyDrive/CIGRE-Forouzan/data.zip'\n",
        "\n",
        "# Replace this with the path where you want to extract the files and store CSV files\n",
        "data_directory = '/content/CIGRE'\n",
        "\n",
        "os.makedirs(data_directory, exist_ok=True)\n",
        "\n",
        "with zipfile.ZipFile(zip_file_path, 'r') as zip_ref:\n",
        "    zip_ref.extractall(data_directory)\n",
        "\n",
        "print(f\"Files extracted to {data_directory}\")\n"
      ],
      "metadata": {
        "colab": {
          "base_uri": "https://localhost:8080/"
        },
        "id": "pXd1KZJek1JB",
        "outputId": "d91fba08-4fe0-4d4a-bc13-c2df801738b9"
      },
      "execution_count": 2,
      "outputs": [
        {
          "output_type": "stream",
          "name": "stdout",
          "text": [
            "Files extracted to /content/CIGRE\n"
          ]
        }
      ]
    },
    {
      "cell_type": "markdown",
      "source": [
        "###OUT to CSV"
      ],
      "metadata": {
        "id": "qmc1Dnxd8BfV"
      }
    },
    {
      "cell_type": "code",
      "source": [
        "import pandas as pd\n",
        "import re\n",
        "import os\n",
        "\n",
        "def extract_desc(line):\n",
        "    match = re.search(r'Desc=\"([^\"]+)\"', line)\n",
        "    if match:\n",
        "        return match.group(1)\n",
        "    return None\n",
        "for folder in os.listdir(data_directory):\n",
        "    folder_path = os.path.join(data_directory, folder)\n",
        "\n",
        "    if os.path.isdir(folder_path):\n",
        "        # List .out files in the directory\n",
        "        file_names = [f for f in os.listdir(folder_path) if f.endswith('.out')]\n",
        "        file_names.sort(key=lambda x: int(re.search(r'_(\\d+)', x).group(1)))  # Sorting to maintain order\n",
        "        print(file_names)\n",
        "        dfs = []\n",
        "        for idx, file_name in enumerate(file_names):\n",
        "            try:\n",
        "                with open(os.path.join(folder_path, file_name), 'r') as file:\n",
        "                    lines = file.readlines()\n",
        "                data = [[float(val) for val in line.split()] for line in lines]\n",
        "                df = pd.DataFrame(data)\n",
        "                if idx > 0:\n",
        "                    df = df.drop(df.columns[0], axis=1)\n",
        "                dfs.append(df)\n",
        "            except Exception as e:\n",
        "                print(f\"Error reading {file_name}: {e}\")\n",
        "\n",
        "        final_df = pd.concat(dfs, axis=1)\n",
        "\n",
        "        # Extract headers from the .inf file\n",
        "        inf_file_path = os.path.join(folder_path, f'{folder}.inf')\n",
        "        desc_values = ['time']\n",
        "        with open(inf_file_path, 'r') as file:\n",
        "            for line in file:\n",
        "                desc = extract_desc(line)\n",
        "                if desc:\n",
        "                    desc_values.append(desc)\n",
        "\n",
        "        num_cols = final_df.shape[1]\n",
        "        num_headers = len(desc_values)\n",
        "\n",
        "        if num_cols > num_headers:\n",
        "            desc_values.extend(['unknown'] * (num_cols - num_headers))\n",
        "\n",
        "        final_df.columns = desc_values\n",
        "\n",
        "        # Save the DataFrame to a CSV file\n",
        "        final_df.to_csv(os.path.join(data_directory, f'{folder}.csv'), index=False)\n",
        "        print(f'CSV file saved for {folder}')\n"
      ],
      "metadata": {
        "id": "oXpa_vpEYhrZ",
        "outputId": "ba8f74cb-994d-48a3-f0b5-8eb11de12404",
        "colab": {
          "base_uri": "https://localhost:8080/"
        }
      },
      "execution_count": 4,
      "outputs": [
        {
          "output_type": "stream",
          "name": "stdout",
          "text": [
            "['Bus23_0.out', 'Bus23_1.out', 'Bus23_2.out', 'Bus23_3.out', 'Bus23_4.out', 'Bus23_5.out', 'Bus23_6.out', 'Bus23_7.out', 'Bus23_8.out', 'Bus23_9.out', 'Bus23_10.out', 'Bus23_11.out', 'Bus23_12.out', 'Bus23_13.out', 'Bus23_14.out', 'Bus23_15.out', 'Bus23_16.out', 'Bus23_17.out', 'Bus23_18.out', 'Bus23_19.out', 'Bus23_20.out', 'Bus23_21.out', 'Bus23_22.out', 'Bus23_23.out', 'Bus23_24.out', 'Bus23_25.out', 'Bus23_26.out', 'Bus23_27.out', 'Bus23_28.out', 'Bus23_29.out', 'Bus23_30.out', 'Bus23_31.out', 'Bus23_32.out', 'Bus23_33.out', 'Bus23_34.out', 'Bus23_35.out', 'Bus23_36.out', 'Bus23_37.out', 'Bus23_38.out', 'Bus23_39.out', 'Bus23_40.out', 'Bus23_41.out', 'Bus23_42.out', 'Bus23_43.out', 'Bus23_44.out', 'Bus23_45.out', 'Bus23_46.out', 'Bus23_47.out', 'Bus23_48.out', 'Bus23_49.out', 'Bus23_50.out', 'Bus23_51.out', 'Bus23_52.out', 'Bus23_53.out', 'Bus23_54.out', 'Bus23_55.out', 'Bus23_56.out', 'Bus23_57.out', 'Bus23_58.out', 'Bus23_59.out', 'Bus23_60.out', 'Bus23_61.out', 'Bus23_62.out', 'Bus23_63.out', 'Bus23_64.out', 'Bus23_65.out', 'Bus23_66.out', 'Bus23_67.out', 'Bus23_68.out', 'Bus23_69.out', 'Bus23_70.out', 'Bus23_71.out', 'Bus23_72.out', 'Bus23_73.out', 'Bus23_74.out', 'Bus23_75.out', 'Bus23_76.out', 'Bus23_77.out', 'Bus23_78.out', 'Bus23_79.out', 'Bus23_80.out', 'Bus23_81.out', 'Bus23_82.out', 'Bus23_83.out', 'Bus23_84.out', 'Bus23_85.out', 'Bus23_86.out', 'Bus23_87.out', 'Bus23_88.out', 'Bus23_89.out', 'Bus23_90.out', 'Bus23_91.out', 'Bus23_92.out', 'Bus23_93.out', 'Bus23_94.out', 'Bus23_95.out', 'Bus23_96.out']\n",
            "CSV file saved for Bus23\n",
            "['Bus38_0.out', 'Bus38_1.out', 'Bus38_2.out', 'Bus38_3.out', 'Bus38_4.out', 'Bus38_5.out', 'Bus38_6.out', 'Bus38_7.out', 'Bus38_8.out', 'Bus38_9.out', 'Bus38_10.out', 'Bus38_11.out', 'Bus38_12.out', 'Bus38_13.out', 'Bus38_14.out', 'Bus38_15.out', 'Bus38_16.out', 'Bus38_17.out', 'Bus38_18.out', 'Bus38_19.out', 'Bus38_20.out', 'Bus38_21.out', 'Bus38_22.out', 'Bus38_23.out', 'Bus38_24.out', 'Bus38_25.out', 'Bus38_26.out', 'Bus38_27.out', 'Bus38_28.out', 'Bus38_29.out', 'Bus38_30.out', 'Bus38_31.out', 'Bus38_32.out', 'Bus38_33.out', 'Bus38_34.out', 'Bus38_35.out', 'Bus38_36.out', 'Bus38_37.out', 'Bus38_38.out', 'Bus38_39.out', 'Bus38_40.out', 'Bus38_41.out', 'Bus38_42.out', 'Bus38_43.out', 'Bus38_44.out', 'Bus38_45.out', 'Bus38_46.out', 'Bus38_47.out', 'Bus38_48.out', 'Bus38_49.out', 'Bus38_50.out', 'Bus38_51.out', 'Bus38_52.out', 'Bus38_53.out', 'Bus38_54.out', 'Bus38_55.out', 'Bus38_56.out', 'Bus38_57.out', 'Bus38_58.out', 'Bus38_59.out', 'Bus38_60.out', 'Bus38_61.out', 'Bus38_62.out', 'Bus38_63.out', 'Bus38_64.out', 'Bus38_65.out', 'Bus38_66.out', 'Bus38_67.out', 'Bus38_68.out', 'Bus38_69.out', 'Bus38_70.out', 'Bus38_71.out', 'Bus38_72.out', 'Bus38_73.out', 'Bus38_74.out', 'Bus38_75.out', 'Bus38_76.out', 'Bus38_77.out', 'Bus38_78.out', 'Bus38_79.out', 'Bus38_80.out', 'Bus38_81.out', 'Bus38_82.out', 'Bus38_83.out', 'Bus38_84.out', 'Bus38_85.out', 'Bus38_86.out', 'Bus38_87.out', 'Bus38_88.out', 'Bus38_89.out', 'Bus38_90.out', 'Bus38_91.out', 'Bus38_92.out', 'Bus38_93.out', 'Bus38_94.out', 'Bus38_95.out', 'Bus38_96.out']\n",
            "CSV file saved for Bus38\n",
            "['Bus78_0.out', 'Bus78_1.out', 'Bus78_2.out', 'Bus78_3.out', 'Bus78_4.out', 'Bus78_5.out', 'Bus78_6.out', 'Bus78_7.out', 'Bus78_8.out', 'Bus78_9.out', 'Bus78_10.out', 'Bus78_11.out', 'Bus78_12.out', 'Bus78_13.out', 'Bus78_14.out', 'Bus78_15.out', 'Bus78_16.out', 'Bus78_17.out', 'Bus78_18.out', 'Bus78_19.out', 'Bus78_20.out', 'Bus78_21.out', 'Bus78_22.out', 'Bus78_23.out', 'Bus78_24.out', 'Bus78_25.out', 'Bus78_26.out', 'Bus78_27.out', 'Bus78_28.out', 'Bus78_29.out', 'Bus78_30.out', 'Bus78_31.out', 'Bus78_32.out', 'Bus78_33.out', 'Bus78_34.out', 'Bus78_35.out', 'Bus78_36.out', 'Bus78_37.out', 'Bus78_38.out', 'Bus78_39.out', 'Bus78_40.out', 'Bus78_41.out', 'Bus78_42.out', 'Bus78_43.out', 'Bus78_44.out', 'Bus78_45.out', 'Bus78_46.out', 'Bus78_47.out', 'Bus78_48.out', 'Bus78_49.out', 'Bus78_50.out', 'Bus78_51.out', 'Bus78_52.out', 'Bus78_53.out', 'Bus78_54.out', 'Bus78_55.out', 'Bus78_56.out', 'Bus78_57.out', 'Bus78_58.out', 'Bus78_59.out', 'Bus78_60.out', 'Bus78_61.out', 'Bus78_62.out', 'Bus78_63.out', 'Bus78_64.out', 'Bus78_65.out', 'Bus78_66.out', 'Bus78_67.out', 'Bus78_68.out', 'Bus78_69.out', 'Bus78_70.out', 'Bus78_71.out', 'Bus78_72.out', 'Bus78_73.out', 'Bus78_74.out', 'Bus78_75.out', 'Bus78_76.out', 'Bus78_77.out', 'Bus78_78.out', 'Bus78_79.out', 'Bus78_80.out', 'Bus78_81.out', 'Bus78_82.out', 'Bus78_83.out', 'Bus78_84.out', 'Bus78_85.out', 'Bus78_86.out', 'Bus78_87.out', 'Bus78_88.out', 'Bus78_89.out', 'Bus78_90.out', 'Bus78_91.out', 'Bus78_92.out', 'Bus78_93.out', 'Bus78_94.out', 'Bus78_95.out', 'Bus78_96.out']\n",
            "CSV file saved for Bus78\n",
            "['Bus34_0.out', 'Bus34_1.out', 'Bus34_2.out', 'Bus34_3.out', 'Bus34_4.out', 'Bus34_5.out', 'Bus34_6.out', 'Bus34_7.out', 'Bus34_8.out', 'Bus34_9.out', 'Bus34_10.out', 'Bus34_11.out', 'Bus34_12.out', 'Bus34_13.out', 'Bus34_14.out', 'Bus34_15.out', 'Bus34_16.out', 'Bus34_17.out', 'Bus34_18.out', 'Bus34_19.out', 'Bus34_20.out', 'Bus34_21.out', 'Bus34_22.out', 'Bus34_23.out', 'Bus34_24.out', 'Bus34_25.out', 'Bus34_26.out', 'Bus34_27.out', 'Bus34_28.out', 'Bus34_29.out', 'Bus34_30.out', 'Bus34_31.out', 'Bus34_32.out', 'Bus34_33.out', 'Bus34_34.out', 'Bus34_35.out', 'Bus34_36.out', 'Bus34_37.out', 'Bus34_38.out', 'Bus34_39.out', 'Bus34_40.out', 'Bus34_41.out', 'Bus34_42.out', 'Bus34_43.out', 'Bus34_44.out', 'Bus34_45.out', 'Bus34_46.out', 'Bus34_47.out', 'Bus34_48.out', 'Bus34_49.out', 'Bus34_50.out', 'Bus34_51.out', 'Bus34_52.out', 'Bus34_53.out', 'Bus34_54.out', 'Bus34_55.out', 'Bus34_56.out', 'Bus34_57.out', 'Bus34_58.out', 'Bus34_59.out', 'Bus34_60.out', 'Bus34_61.out', 'Bus34_62.out', 'Bus34_63.out', 'Bus34_64.out', 'Bus34_65.out', 'Bus34_66.out', 'Bus34_67.out', 'Bus34_68.out', 'Bus34_69.out', 'Bus34_70.out', 'Bus34_71.out', 'Bus34_72.out', 'Bus34_73.out', 'Bus34_74.out', 'Bus34_75.out', 'Bus34_76.out', 'Bus34_77.out', 'Bus34_78.out', 'Bus34_79.out', 'Bus34_80.out', 'Bus34_81.out', 'Bus34_82.out', 'Bus34_83.out', 'Bus34_84.out', 'Bus34_85.out', 'Bus34_86.out', 'Bus34_87.out', 'Bus34_88.out', 'Bus34_89.out', 'Bus34_90.out', 'Bus34_91.out', 'Bus34_92.out', 'Bus34_93.out', 'Bus34_94.out', 'Bus34_95.out', 'Bus34_96.out']\n",
            "CSV file saved for Bus34\n",
            "['Bus12_0.out', 'Bus12_1.out', 'Bus12_2.out', 'Bus12_3.out', 'Bus12_4.out', 'Bus12_5.out', 'Bus12_6.out', 'Bus12_7.out', 'Bus12_8.out', 'Bus12_9.out', 'Bus12_10.out', 'Bus12_11.out', 'Bus12_12.out', 'Bus12_13.out', 'Bus12_14.out', 'Bus12_15.out', 'Bus12_16.out', 'Bus12_17.out', 'Bus12_18.out', 'Bus12_19.out', 'Bus12_20.out', 'Bus12_21.out', 'Bus12_22.out', 'Bus12_23.out', 'Bus12_24.out', 'Bus12_25.out', 'Bus12_26.out', 'Bus12_27.out', 'Bus12_28.out', 'Bus12_29.out', 'Bus12_30.out', 'Bus12_31.out', 'Bus12_32.out', 'Bus12_33.out', 'Bus12_34.out', 'Bus12_35.out', 'Bus12_36.out', 'Bus12_37.out', 'Bus12_38.out', 'Bus12_39.out', 'Bus12_40.out', 'Bus12_41.out', 'Bus12_42.out', 'Bus12_43.out', 'Bus12_44.out', 'Bus12_45.out', 'Bus12_46.out', 'Bus12_47.out', 'Bus12_48.out', 'Bus12_49.out', 'Bus12_50.out', 'Bus12_51.out', 'Bus12_52.out', 'Bus12_53.out', 'Bus12_54.out', 'Bus12_55.out', 'Bus12_56.out', 'Bus12_57.out', 'Bus12_58.out', 'Bus12_59.out', 'Bus12_60.out', 'Bus12_61.out', 'Bus12_62.out', 'Bus12_63.out', 'Bus12_64.out', 'Bus12_65.out', 'Bus12_66.out', 'Bus12_67.out', 'Bus12_68.out', 'Bus12_69.out', 'Bus12_70.out', 'Bus12_71.out', 'Bus12_72.out', 'Bus12_73.out', 'Bus12_74.out', 'Bus12_75.out', 'Bus12_76.out', 'Bus12_77.out', 'Bus12_78.out', 'Bus12_79.out', 'Bus12_80.out', 'Bus12_81.out', 'Bus12_82.out', 'Bus12_83.out', 'Bus12_84.out', 'Bus12_85.out', 'Bus12_86.out', 'Bus12_87.out', 'Bus12_88.out', 'Bus12_89.out', 'Bus12_90.out', 'Bus12_91.out', 'Bus12_92.out', 'Bus12_93.out', 'Bus12_94.out', 'Bus12_95.out', 'Bus12_96.out']\n",
            "CSV file saved for Bus12\n",
            "['Bus411_0.out', 'Bus411_1.out', 'Bus411_2.out', 'Bus411_3.out', 'Bus411_4.out', 'Bus411_5.out', 'Bus411_6.out', 'Bus411_7.out', 'Bus411_8.out', 'Bus411_9.out', 'Bus411_10.out', 'Bus411_11.out', 'Bus411_12.out', 'Bus411_13.out', 'Bus411_14.out', 'Bus411_15.out', 'Bus411_16.out', 'Bus411_17.out', 'Bus411_18.out', 'Bus411_19.out', 'Bus411_20.out', 'Bus411_21.out', 'Bus411_22.out', 'Bus411_23.out', 'Bus411_24.out', 'Bus411_25.out', 'Bus411_26.out', 'Bus411_27.out', 'Bus411_28.out', 'Bus411_29.out', 'Bus411_30.out', 'Bus411_31.out', 'Bus411_32.out', 'Bus411_33.out', 'Bus411_34.out', 'Bus411_35.out', 'Bus411_36.out', 'Bus411_37.out', 'Bus411_38.out', 'Bus411_39.out', 'Bus411_40.out', 'Bus411_41.out', 'Bus411_42.out', 'Bus411_43.out', 'Bus411_44.out', 'Bus411_45.out', 'Bus411_46.out', 'Bus411_47.out', 'Bus411_48.out', 'Bus411_49.out', 'Bus411_50.out', 'Bus411_51.out', 'Bus411_52.out', 'Bus411_53.out', 'Bus411_54.out', 'Bus411_55.out', 'Bus411_56.out', 'Bus411_57.out', 'Bus411_58.out', 'Bus411_59.out', 'Bus411_60.out', 'Bus411_61.out', 'Bus411_62.out', 'Bus411_63.out', 'Bus411_64.out', 'Bus411_65.out', 'Bus411_66.out', 'Bus411_67.out', 'Bus411_68.out', 'Bus411_69.out', 'Bus411_70.out', 'Bus411_71.out', 'Bus411_72.out', 'Bus411_73.out', 'Bus411_74.out', 'Bus411_75.out', 'Bus411_76.out', 'Bus411_77.out', 'Bus411_78.out', 'Bus411_79.out', 'Bus411_80.out', 'Bus411_81.out', 'Bus411_82.out', 'Bus411_83.out', 'Bus411_84.out', 'Bus411_85.out', 'Bus411_86.out', 'Bus411_87.out', 'Bus411_88.out', 'Bus411_89.out', 'Bus411_90.out', 'Bus411_91.out', 'Bus411_92.out', 'Bus411_93.out', 'Bus411_94.out', 'Bus411_95.out', 'Bus411_96.out']\n",
            "CSV file saved for Bus411\n",
            "['Bus45_0.out', 'Bus45_1.out', 'Bus45_2.out', 'Bus45_3.out', 'Bus45_4.out', 'Bus45_5.out', 'Bus45_6.out', 'Bus45_7.out', 'Bus45_8.out', 'Bus45_9.out', 'Bus45_10.out', 'Bus45_11.out', 'Bus45_12.out', 'Bus45_13.out', 'Bus45_14.out', 'Bus45_15.out', 'Bus45_16.out', 'Bus45_17.out', 'Bus45_18.out', 'Bus45_19.out', 'Bus45_20.out', 'Bus45_21.out', 'Bus45_22.out', 'Bus45_23.out', 'Bus45_24.out', 'Bus45_25.out', 'Bus45_26.out', 'Bus45_27.out', 'Bus45_28.out', 'Bus45_29.out', 'Bus45_30.out', 'Bus45_31.out', 'Bus45_32.out', 'Bus45_33.out', 'Bus45_34.out', 'Bus45_35.out', 'Bus45_36.out', 'Bus45_37.out', 'Bus45_38.out', 'Bus45_39.out', 'Bus45_40.out', 'Bus45_41.out', 'Bus45_42.out', 'Bus45_43.out', 'Bus45_44.out', 'Bus45_45.out', 'Bus45_46.out', 'Bus45_47.out', 'Bus45_48.out', 'Bus45_49.out', 'Bus45_50.out', 'Bus45_51.out', 'Bus45_52.out', 'Bus45_53.out', 'Bus45_54.out', 'Bus45_55.out', 'Bus45_56.out', 'Bus45_57.out', 'Bus45_58.out', 'Bus45_59.out', 'Bus45_60.out', 'Bus45_61.out', 'Bus45_62.out', 'Bus45_63.out', 'Bus45_64.out', 'Bus45_65.out', 'Bus45_66.out', 'Bus45_67.out', 'Bus45_68.out', 'Bus45_69.out', 'Bus45_70.out', 'Bus45_71.out', 'Bus45_72.out', 'Bus45_73.out', 'Bus45_74.out', 'Bus45_75.out', 'Bus45_76.out', 'Bus45_77.out', 'Bus45_78.out', 'Bus45_79.out', 'Bus45_80.out', 'Bus45_81.out', 'Bus45_82.out', 'Bus45_83.out', 'Bus45_84.out', 'Bus45_85.out', 'Bus45_86.out', 'Bus45_87.out', 'Bus45_88.out', 'Bus45_89.out', 'Bus45_90.out', 'Bus45_91.out', 'Bus45_92.out', 'Bus45_93.out', 'Bus45_94.out', 'Bus45_95.out', 'Bus45_96.out']\n",
            "CSV file saved for Bus45\n",
            "['Bus1011_0.out', 'Bus1011_1.out', 'Bus1011_2.out', 'Bus1011_3.out', 'Bus1011_4.out', 'Bus1011_5.out', 'Bus1011_6.out', 'Bus1011_7.out', 'Bus1011_8.out', 'Bus1011_9.out', 'Bus1011_10.out', 'Bus1011_11.out', 'Bus1011_12.out', 'Bus1011_13.out', 'Bus1011_14.out', 'Bus1011_15.out', 'Bus1011_16.out', 'Bus1011_17.out', 'Bus1011_18.out', 'Bus1011_19.out', 'Bus1011_20.out', 'Bus1011_21.out', 'Bus1011_22.out', 'Bus1011_23.out', 'Bus1011_24.out', 'Bus1011_25.out', 'Bus1011_26.out', 'Bus1011_27.out', 'Bus1011_28.out', 'Bus1011_29.out', 'Bus1011_30.out', 'Bus1011_31.out', 'Bus1011_32.out', 'Bus1011_33.out', 'Bus1011_34.out', 'Bus1011_35.out', 'Bus1011_36.out', 'Bus1011_37.out', 'Bus1011_38.out', 'Bus1011_39.out', 'Bus1011_40.out', 'Bus1011_41.out', 'Bus1011_42.out', 'Bus1011_43.out', 'Bus1011_44.out', 'Bus1011_45.out', 'Bus1011_46.out', 'Bus1011_47.out', 'Bus1011_48.out', 'Bus1011_49.out', 'Bus1011_50.out', 'Bus1011_51.out', 'Bus1011_52.out', 'Bus1011_53.out', 'Bus1011_54.out', 'Bus1011_55.out', 'Bus1011_56.out', 'Bus1011_57.out', 'Bus1011_58.out', 'Bus1011_59.out', 'Bus1011_60.out', 'Bus1011_61.out', 'Bus1011_62.out', 'Bus1011_63.out', 'Bus1011_64.out', 'Bus1011_65.out', 'Bus1011_66.out', 'Bus1011_67.out', 'Bus1011_68.out', 'Bus1011_69.out', 'Bus1011_70.out', 'Bus1011_71.out', 'Bus1011_72.out', 'Bus1011_73.out', 'Bus1011_74.out', 'Bus1011_75.out', 'Bus1011_76.out', 'Bus1011_77.out', 'Bus1011_78.out', 'Bus1011_79.out', 'Bus1011_80.out', 'Bus1011_81.out', 'Bus1011_82.out', 'Bus1011_83.out', 'Bus1011_84.out', 'Bus1011_85.out', 'Bus1011_86.out', 'Bus1011_87.out', 'Bus1011_88.out', 'Bus1011_89.out', 'Bus1011_90.out', 'Bus1011_91.out', 'Bus1011_92.out', 'Bus1011_93.out', 'Bus1011_94.out', 'Bus1011_95.out', 'Bus1011_96.out']\n",
            "CSV file saved for Bus1011\n",
            "['Bus56_0.out', 'Bus56_1.out', 'Bus56_2.out', 'Bus56_3.out', 'Bus56_4.out', 'Bus56_5.out', 'Bus56_6.out', 'Bus56_7.out', 'Bus56_8.out', 'Bus56_9.out', 'Bus56_10.out', 'Bus56_11.out', 'Bus56_12.out', 'Bus56_13.out', 'Bus56_14.out', 'Bus56_15.out', 'Bus56_16.out', 'Bus56_17.out', 'Bus56_18.out', 'Bus56_19.out', 'Bus56_20.out', 'Bus56_21.out', 'Bus56_22.out', 'Bus56_23.out', 'Bus56_24.out', 'Bus56_25.out', 'Bus56_26.out', 'Bus56_27.out', 'Bus56_28.out', 'Bus56_29.out', 'Bus56_30.out', 'Bus56_31.out', 'Bus56_32.out', 'Bus56_33.out', 'Bus56_34.out', 'Bus56_35.out', 'Bus56_36.out', 'Bus56_37.out', 'Bus56_38.out', 'Bus56_39.out', 'Bus56_40.out', 'Bus56_41.out', 'Bus56_42.out', 'Bus56_43.out', 'Bus56_44.out', 'Bus56_45.out', 'Bus56_46.out', 'Bus56_47.out', 'Bus56_48.out', 'Bus56_49.out', 'Bus56_50.out', 'Bus56_51.out', 'Bus56_52.out', 'Bus56_53.out', 'Bus56_54.out', 'Bus56_55.out', 'Bus56_56.out', 'Bus56_57.out', 'Bus56_58.out', 'Bus56_59.out', 'Bus56_60.out', 'Bus56_61.out', 'Bus56_62.out', 'Bus56_63.out', 'Bus56_64.out', 'Bus56_65.out', 'Bus56_66.out', 'Bus56_67.out', 'Bus56_68.out', 'Bus56_69.out', 'Bus56_70.out', 'Bus56_71.out', 'Bus56_72.out', 'Bus56_73.out', 'Bus56_74.out', 'Bus56_75.out', 'Bus56_76.out', 'Bus56_77.out', 'Bus56_78.out', 'Bus56_79.out', 'Bus56_80.out', 'Bus56_81.out', 'Bus56_82.out', 'Bus56_83.out', 'Bus56_84.out', 'Bus56_85.out', 'Bus56_86.out', 'Bus56_87.out', 'Bus56_88.out', 'Bus56_89.out', 'Bus56_90.out', 'Bus56_91.out', 'Bus56_92.out', 'Bus56_93.out', 'Bus56_94.out', 'Bus56_95.out', 'Bus56_96.out']\n",
            "CSV file saved for Bus56\n",
            "['Bus67_0.out', 'Bus67_1.out', 'Bus67_2.out', 'Bus67_3.out', 'Bus67_4.out', 'Bus67_5.out', 'Bus67_6.out', 'Bus67_7.out', 'Bus67_8.out', 'Bus67_9.out', 'Bus67_10.out', 'Bus67_11.out', 'Bus67_12.out', 'Bus67_13.out', 'Bus67_14.out', 'Bus67_15.out', 'Bus67_16.out', 'Bus67_17.out', 'Bus67_18.out', 'Bus67_19.out', 'Bus67_20.out', 'Bus67_21.out', 'Bus67_22.out', 'Bus67_23.out', 'Bus67_24.out', 'Bus67_25.out', 'Bus67_26.out', 'Bus67_27.out', 'Bus67_28.out', 'Bus67_29.out', 'Bus67_30.out', 'Bus67_31.out', 'Bus67_32.out', 'Bus67_33.out', 'Bus67_34.out', 'Bus67_35.out', 'Bus67_36.out', 'Bus67_37.out', 'Bus67_38.out', 'Bus67_39.out', 'Bus67_40.out', 'Bus67_41.out', 'Bus67_42.out', 'Bus67_43.out', 'Bus67_44.out', 'Bus67_45.out', 'Bus67_46.out', 'Bus67_47.out', 'Bus67_48.out', 'Bus67_49.out', 'Bus67_50.out', 'Bus67_51.out', 'Bus67_52.out', 'Bus67_53.out', 'Bus67_54.out', 'Bus67_55.out', 'Bus67_56.out', 'Bus67_57.out', 'Bus67_58.out', 'Bus67_59.out', 'Bus67_60.out', 'Bus67_61.out', 'Bus67_62.out', 'Bus67_63.out', 'Bus67_64.out', 'Bus67_65.out', 'Bus67_66.out', 'Bus67_67.out', 'Bus67_68.out', 'Bus67_69.out', 'Bus67_70.out', 'Bus67_71.out', 'Bus67_72.out', 'Bus67_73.out', 'Bus67_74.out', 'Bus67_75.out', 'Bus67_76.out', 'Bus67_77.out', 'Bus67_78.out', 'Bus67_79.out', 'Bus67_80.out', 'Bus67_81.out', 'Bus67_82.out', 'Bus67_83.out', 'Bus67_84.out', 'Bus67_85.out', 'Bus67_86.out', 'Bus67_87.out', 'Bus67_88.out', 'Bus67_89.out', 'Bus67_90.out', 'Bus67_91.out', 'Bus67_92.out', 'Bus67_93.out', 'Bus67_94.out', 'Bus67_95.out', 'Bus67_96.out']\n",
            "CSV file saved for Bus67\n",
            "['Bus910_0.out', 'Bus910_1.out', 'Bus910_2.out', 'Bus910_3.out', 'Bus910_4.out', 'Bus910_5.out', 'Bus910_6.out', 'Bus910_7.out', 'Bus910_8.out', 'Bus910_9.out', 'Bus910_10.out', 'Bus910_11.out', 'Bus910_12.out', 'Bus910_13.out', 'Bus910_14.out', 'Bus910_15.out', 'Bus910_16.out', 'Bus910_17.out', 'Bus910_18.out', 'Bus910_19.out', 'Bus910_20.out', 'Bus910_21.out', 'Bus910_22.out', 'Bus910_23.out', 'Bus910_24.out', 'Bus910_25.out', 'Bus910_26.out', 'Bus910_27.out', 'Bus910_28.out', 'Bus910_29.out', 'Bus910_30.out', 'Bus910_31.out', 'Bus910_32.out', 'Bus910_33.out', 'Bus910_34.out', 'Bus910_35.out', 'Bus910_36.out', 'Bus910_37.out', 'Bus910_38.out', 'Bus910_39.out', 'Bus910_40.out', 'Bus910_41.out', 'Bus910_42.out', 'Bus910_43.out', 'Bus910_44.out', 'Bus910_45.out', 'Bus910_46.out', 'Bus910_47.out', 'Bus910_48.out', 'Bus910_49.out', 'Bus910_50.out', 'Bus910_51.out', 'Bus910_52.out', 'Bus910_53.out', 'Bus910_54.out', 'Bus910_55.out', 'Bus910_56.out', 'Bus910_57.out', 'Bus910_58.out', 'Bus910_59.out', 'Bus910_60.out', 'Bus910_61.out', 'Bus910_62.out', 'Bus910_63.out', 'Bus910_64.out', 'Bus910_65.out', 'Bus910_66.out', 'Bus910_67.out', 'Bus910_68.out', 'Bus910_69.out', 'Bus910_70.out', 'Bus910_71.out', 'Bus910_72.out', 'Bus910_73.out', 'Bus910_74.out', 'Bus910_75.out', 'Bus910_76.out', 'Bus910_77.out', 'Bus910_78.out', 'Bus910_79.out', 'Bus910_80.out', 'Bus910_81.out', 'Bus910_82.out', 'Bus910_83.out', 'Bus910_84.out', 'Bus910_85.out', 'Bus910_86.out', 'Bus910_87.out', 'Bus910_88.out', 'Bus910_89.out', 'Bus910_90.out', 'Bus910_91.out', 'Bus910_92.out', 'Bus910_93.out', 'Bus910_94.out', 'Bus910_95.out', 'Bus910_96.out']\n",
            "CSV file saved for Bus910\n",
            "['Bus89_0.out', 'Bus89_1.out', 'Bus89_2.out', 'Bus89_3.out', 'Bus89_4.out', 'Bus89_5.out', 'Bus89_6.out', 'Bus89_7.out', 'Bus89_8.out', 'Bus89_9.out', 'Bus89_10.out', 'Bus89_11.out', 'Bus89_12.out', 'Bus89_13.out', 'Bus89_14.out', 'Bus89_15.out', 'Bus89_16.out', 'Bus89_17.out', 'Bus89_18.out', 'Bus89_19.out', 'Bus89_20.out', 'Bus89_21.out', 'Bus89_22.out', 'Bus89_23.out', 'Bus89_24.out', 'Bus89_25.out', 'Bus89_26.out', 'Bus89_27.out', 'Bus89_28.out', 'Bus89_29.out', 'Bus89_30.out', 'Bus89_31.out', 'Bus89_32.out', 'Bus89_33.out', 'Bus89_34.out', 'Bus89_35.out', 'Bus89_36.out', 'Bus89_37.out', 'Bus89_38.out', 'Bus89_39.out', 'Bus89_40.out', 'Bus89_41.out', 'Bus89_42.out', 'Bus89_43.out', 'Bus89_44.out', 'Bus89_45.out', 'Bus89_46.out', 'Bus89_47.out', 'Bus89_48.out', 'Bus89_49.out', 'Bus89_50.out', 'Bus89_51.out', 'Bus89_52.out', 'Bus89_53.out', 'Bus89_54.out', 'Bus89_55.out', 'Bus89_56.out', 'Bus89_57.out', 'Bus89_58.out', 'Bus89_59.out', 'Bus89_60.out', 'Bus89_61.out', 'Bus89_62.out', 'Bus89_63.out', 'Bus89_64.out', 'Bus89_65.out', 'Bus89_66.out', 'Bus89_67.out', 'Bus89_68.out', 'Bus89_69.out', 'Bus89_70.out', 'Bus89_71.out', 'Bus89_72.out', 'Bus89_73.out', 'Bus89_74.out', 'Bus89_75.out', 'Bus89_76.out', 'Bus89_77.out', 'Bus89_78.out', 'Bus89_79.out', 'Bus89_80.out', 'Bus89_81.out', 'Bus89_82.out', 'Bus89_83.out', 'Bus89_84.out', 'Bus89_85.out', 'Bus89_86.out', 'Bus89_87.out', 'Bus89_88.out', 'Bus89_89.out', 'Bus89_90.out', 'Bus89_91.out', 'Bus89_92.out', 'Bus89_93.out', 'Bus89_94.out', 'Bus89_95.out', 'Bus89_96.out']\n",
            "CSV file saved for Bus89\n"
          ]
        }
      ]
    },
    {
      "cell_type": "markdown",
      "source": [
        "###Download CSV files"
      ],
      "metadata": {
        "id": "v8fq2Huc75LH"
      }
    },
    {
      "cell_type": "code",
      "source": [
        "import os\n",
        "from google.colab import files\n",
        "for filename in os.listdir(data_directory):\n",
        "    if filename.endswith('.csv'):\n",
        "        file_path = os.path.join(data_directory, filename)\n",
        "        # Download the file\n",
        "        files.download(file_path)\n"
      ],
      "metadata": {
        "id": "OCTMWnvA2Umn",
        "colab": {
          "base_uri": "https://localhost:8080/",
          "height": 17
        },
        "outputId": "cac25e7f-41a3-4487-983b-137723d519c4"
      },
      "execution_count": null,
      "outputs": [
        {
          "output_type": "display_data",
          "data": {
            "text/plain": [
              "<IPython.core.display.Javascript object>"
            ],
            "application/javascript": [
              "\n",
              "    async function download(id, filename, size) {\n",
              "      if (!google.colab.kernel.accessAllowed) {\n",
              "        return;\n",
              "      }\n",
              "      const div = document.createElement('div');\n",
              "      const label = document.createElement('label');\n",
              "      label.textContent = `Downloading \"${filename}\": `;\n",
              "      div.appendChild(label);\n",
              "      const progress = document.createElement('progress');\n",
              "      progress.max = size;\n",
              "      div.appendChild(progress);\n",
              "      document.body.appendChild(div);\n",
              "\n",
              "      const buffers = [];\n",
              "      let downloaded = 0;\n",
              "\n",
              "      const channel = await google.colab.kernel.comms.open(id);\n",
              "      // Send a message to notify the kernel that we're ready.\n",
              "      channel.send({})\n",
              "\n",
              "      for await (const message of channel.messages) {\n",
              "        // Send a message to notify the kernel that we're ready.\n",
              "        channel.send({})\n",
              "        if (message.buffers) {\n",
              "          for (const buffer of message.buffers) {\n",
              "            buffers.push(buffer);\n",
              "            downloaded += buffer.byteLength;\n",
              "            progress.value = downloaded;\n",
              "          }\n",
              "        }\n",
              "      }\n",
              "      const blob = new Blob(buffers, {type: 'application/binary'});\n",
              "      const a = document.createElement('a');\n",
              "      a.href = window.URL.createObjectURL(blob);\n",
              "      a.download = filename;\n",
              "      div.appendChild(a);\n",
              "      a.click();\n",
              "      div.remove();\n",
              "    }\n",
              "  "
            ]
          },
          "metadata": {}
        },
        {
          "output_type": "display_data",
          "data": {
            "text/plain": [
              "<IPython.core.display.Javascript object>"
            ],
            "application/javascript": [
              "download(\"download_9ed1c28a-d4bd-42d4-81a3-cf1917d9c963\", \"Bus411.csv\", 293737920)"
            ]
          },
          "metadata": {}
        },
        {
          "output_type": "display_data",
          "data": {
            "text/plain": [
              "<IPython.core.display.Javascript object>"
            ],
            "application/javascript": [
              "\n",
              "    async function download(id, filename, size) {\n",
              "      if (!google.colab.kernel.accessAllowed) {\n",
              "        return;\n",
              "      }\n",
              "      const div = document.createElement('div');\n",
              "      const label = document.createElement('label');\n",
              "      label.textContent = `Downloading \"${filename}\": `;\n",
              "      div.appendChild(label);\n",
              "      const progress = document.createElement('progress');\n",
              "      progress.max = size;\n",
              "      div.appendChild(progress);\n",
              "      document.body.appendChild(div);\n",
              "\n",
              "      const buffers = [];\n",
              "      let downloaded = 0;\n",
              "\n",
              "      const channel = await google.colab.kernel.comms.open(id);\n",
              "      // Send a message to notify the kernel that we're ready.\n",
              "      channel.send({})\n",
              "\n",
              "      for await (const message of channel.messages) {\n",
              "        // Send a message to notify the kernel that we're ready.\n",
              "        channel.send({})\n",
              "        if (message.buffers) {\n",
              "          for (const buffer of message.buffers) {\n",
              "            buffers.push(buffer);\n",
              "            downloaded += buffer.byteLength;\n",
              "            progress.value = downloaded;\n",
              "          }\n",
              "        }\n",
              "      }\n",
              "      const blob = new Blob(buffers, {type: 'application/binary'});\n",
              "      const a = document.createElement('a');\n",
              "      a.href = window.URL.createObjectURL(blob);\n",
              "      a.download = filename;\n",
              "      div.appendChild(a);\n",
              "      a.click();\n",
              "      div.remove();\n",
              "    }\n",
              "  "
            ]
          },
          "metadata": {}
        },
        {
          "output_type": "display_data",
          "data": {
            "text/plain": [
              "<IPython.core.display.Javascript object>"
            ],
            "application/javascript": [
              "download(\"download_f5ee0847-c459-4545-8686-d6c8b4f28764\", \"Bus89.csv\", 288499389)"
            ]
          },
          "metadata": {}
        },
        {
          "output_type": "display_data",
          "data": {
            "text/plain": [
              "<IPython.core.display.Javascript object>"
            ],
            "application/javascript": [
              "\n",
              "    async function download(id, filename, size) {\n",
              "      if (!google.colab.kernel.accessAllowed) {\n",
              "        return;\n",
              "      }\n",
              "      const div = document.createElement('div');\n",
              "      const label = document.createElement('label');\n",
              "      label.textContent = `Downloading \"${filename}\": `;\n",
              "      div.appendChild(label);\n",
              "      const progress = document.createElement('progress');\n",
              "      progress.max = size;\n",
              "      div.appendChild(progress);\n",
              "      document.body.appendChild(div);\n",
              "\n",
              "      const buffers = [];\n",
              "      let downloaded = 0;\n",
              "\n",
              "      const channel = await google.colab.kernel.comms.open(id);\n",
              "      // Send a message to notify the kernel that we're ready.\n",
              "      channel.send({})\n",
              "\n",
              "      for await (const message of channel.messages) {\n",
              "        // Send a message to notify the kernel that we're ready.\n",
              "        channel.send({})\n",
              "        if (message.buffers) {\n",
              "          for (const buffer of message.buffers) {\n",
              "            buffers.push(buffer);\n",
              "            downloaded += buffer.byteLength;\n",
              "            progress.value = downloaded;\n",
              "          }\n",
              "        }\n",
              "      }\n",
              "      const blob = new Blob(buffers, {type: 'application/binary'});\n",
              "      const a = document.createElement('a');\n",
              "      a.href = window.URL.createObjectURL(blob);\n",
              "      a.download = filename;\n",
              "      div.appendChild(a);\n",
              "      a.click();\n",
              "      div.remove();\n",
              "    }\n",
              "  "
            ]
          },
          "metadata": {}
        },
        {
          "output_type": "display_data",
          "data": {
            "text/plain": [
              "<IPython.core.display.Javascript object>"
            ],
            "application/javascript": [
              "download(\"download_1296808b-210d-45b2-8ffa-dcf6a9a0d022\", \"Bus56.csv\", 293751052)"
            ]
          },
          "metadata": {}
        },
        {
          "output_type": "display_data",
          "data": {
            "text/plain": [
              "<IPython.core.display.Javascript object>"
            ],
            "application/javascript": [
              "\n",
              "    async function download(id, filename, size) {\n",
              "      if (!google.colab.kernel.accessAllowed) {\n",
              "        return;\n",
              "      }\n",
              "      const div = document.createElement('div');\n",
              "      const label = document.createElement('label');\n",
              "      label.textContent = `Downloading \"${filename}\": `;\n",
              "      div.appendChild(label);\n",
              "      const progress = document.createElement('progress');\n",
              "      progress.max = size;\n",
              "      div.appendChild(progress);\n",
              "      document.body.appendChild(div);\n",
              "\n",
              "      const buffers = [];\n",
              "      let downloaded = 0;\n",
              "\n",
              "      const channel = await google.colab.kernel.comms.open(id);\n",
              "      // Send a message to notify the kernel that we're ready.\n",
              "      channel.send({})\n",
              "\n",
              "      for await (const message of channel.messages) {\n",
              "        // Send a message to notify the kernel that we're ready.\n",
              "        channel.send({})\n",
              "        if (message.buffers) {\n",
              "          for (const buffer of message.buffers) {\n",
              "            buffers.push(buffer);\n",
              "            downloaded += buffer.byteLength;\n",
              "            progress.value = downloaded;\n",
              "          }\n",
              "        }\n",
              "      }\n",
              "      const blob = new Blob(buffers, {type: 'application/binary'});\n",
              "      const a = document.createElement('a');\n",
              "      a.href = window.URL.createObjectURL(blob);\n",
              "      a.download = filename;\n",
              "      div.appendChild(a);\n",
              "      a.click();\n",
              "      div.remove();\n",
              "    }\n",
              "  "
            ]
          },
          "metadata": {}
        },
        {
          "output_type": "display_data",
          "data": {
            "text/plain": [
              "<IPython.core.display.Javascript object>"
            ],
            "application/javascript": [
              "download(\"download_0411c8cd-5064-4013-bbb0-00bd9ca90aa0\", \"Bus910.csv\", 293734020)"
            ]
          },
          "metadata": {}
        },
        {
          "output_type": "display_data",
          "data": {
            "text/plain": [
              "<IPython.core.display.Javascript object>"
            ],
            "application/javascript": [
              "\n",
              "    async function download(id, filename, size) {\n",
              "      if (!google.colab.kernel.accessAllowed) {\n",
              "        return;\n",
              "      }\n",
              "      const div = document.createElement('div');\n",
              "      const label = document.createElement('label');\n",
              "      label.textContent = `Downloading \"${filename}\": `;\n",
              "      div.appendChild(label);\n",
              "      const progress = document.createElement('progress');\n",
              "      progress.max = size;\n",
              "      div.appendChild(progress);\n",
              "      document.body.appendChild(div);\n",
              "\n",
              "      const buffers = [];\n",
              "      let downloaded = 0;\n",
              "\n",
              "      const channel = await google.colab.kernel.comms.open(id);\n",
              "      // Send a message to notify the kernel that we're ready.\n",
              "      channel.send({})\n",
              "\n",
              "      for await (const message of channel.messages) {\n",
              "        // Send a message to notify the kernel that we're ready.\n",
              "        channel.send({})\n",
              "        if (message.buffers) {\n",
              "          for (const buffer of message.buffers) {\n",
              "            buffers.push(buffer);\n",
              "            downloaded += buffer.byteLength;\n",
              "            progress.value = downloaded;\n",
              "          }\n",
              "        }\n",
              "      }\n",
              "      const blob = new Blob(buffers, {type: 'application/binary'});\n",
              "      const a = document.createElement('a');\n",
              "      a.href = window.URL.createObjectURL(blob);\n",
              "      a.download = filename;\n",
              "      div.appendChild(a);\n",
              "      a.click();\n",
              "      div.remove();\n",
              "    }\n",
              "  "
            ]
          },
          "metadata": {}
        },
        {
          "output_type": "display_data",
          "data": {
            "text/plain": [
              "<IPython.core.display.Javascript object>"
            ],
            "application/javascript": [
              "download(\"download_6daefcbd-c5d8-44b7-bbdd-d579b47cd4fc\", \"Bus1011.csv\", 293735916)"
            ]
          },
          "metadata": {}
        },
        {
          "output_type": "display_data",
          "data": {
            "text/plain": [
              "<IPython.core.display.Javascript object>"
            ],
            "application/javascript": [
              "\n",
              "    async function download(id, filename, size) {\n",
              "      if (!google.colab.kernel.accessAllowed) {\n",
              "        return;\n",
              "      }\n",
              "      const div = document.createElement('div');\n",
              "      const label = document.createElement('label');\n",
              "      label.textContent = `Downloading \"${filename}\": `;\n",
              "      div.appendChild(label);\n",
              "      const progress = document.createElement('progress');\n",
              "      progress.max = size;\n",
              "      div.appendChild(progress);\n",
              "      document.body.appendChild(div);\n",
              "\n",
              "      const buffers = [];\n",
              "      let downloaded = 0;\n",
              "\n",
              "      const channel = await google.colab.kernel.comms.open(id);\n",
              "      // Send a message to notify the kernel that we're ready.\n",
              "      channel.send({})\n",
              "\n",
              "      for await (const message of channel.messages) {\n",
              "        // Send a message to notify the kernel that we're ready.\n",
              "        channel.send({})\n",
              "        if (message.buffers) {\n",
              "          for (const buffer of message.buffers) {\n",
              "            buffers.push(buffer);\n",
              "            downloaded += buffer.byteLength;\n",
              "            progress.value = downloaded;\n",
              "          }\n",
              "        }\n",
              "      }\n",
              "      const blob = new Blob(buffers, {type: 'application/binary'});\n",
              "      const a = document.createElement('a');\n",
              "      a.href = window.URL.createObjectURL(blob);\n",
              "      a.download = filename;\n",
              "      div.appendChild(a);\n",
              "      a.click();\n",
              "      div.remove();\n",
              "    }\n",
              "  "
            ]
          },
          "metadata": {}
        },
        {
          "output_type": "display_data",
          "data": {
            "text/plain": [
              "<IPython.core.display.Javascript object>"
            ],
            "application/javascript": [
              "download(\"download_a30aea8c-b6b8-4449-a7f3-cbd91c5b0b3d\", \"Bus23.csv\", 293771502)"
            ]
          },
          "metadata": {}
        },
        {
          "output_type": "display_data",
          "data": {
            "text/plain": [
              "<IPython.core.display.Javascript object>"
            ],
            "application/javascript": [
              "\n",
              "    async function download(id, filename, size) {\n",
              "      if (!google.colab.kernel.accessAllowed) {\n",
              "        return;\n",
              "      }\n",
              "      const div = document.createElement('div');\n",
              "      const label = document.createElement('label');\n",
              "      label.textContent = `Downloading \"${filename}\": `;\n",
              "      div.appendChild(label);\n",
              "      const progress = document.createElement('progress');\n",
              "      progress.max = size;\n",
              "      div.appendChild(progress);\n",
              "      document.body.appendChild(div);\n",
              "\n",
              "      const buffers = [];\n",
              "      let downloaded = 0;\n",
              "\n",
              "      const channel = await google.colab.kernel.comms.open(id);\n",
              "      // Send a message to notify the kernel that we're ready.\n",
              "      channel.send({})\n",
              "\n",
              "      for await (const message of channel.messages) {\n",
              "        // Send a message to notify the kernel that we're ready.\n",
              "        channel.send({})\n",
              "        if (message.buffers) {\n",
              "          for (const buffer of message.buffers) {\n",
              "            buffers.push(buffer);\n",
              "            downloaded += buffer.byteLength;\n",
              "            progress.value = downloaded;\n",
              "          }\n",
              "        }\n",
              "      }\n",
              "      const blob = new Blob(buffers, {type: 'application/binary'});\n",
              "      const a = document.createElement('a');\n",
              "      a.href = window.URL.createObjectURL(blob);\n",
              "      a.download = filename;\n",
              "      div.appendChild(a);\n",
              "      a.click();\n",
              "      div.remove();\n",
              "    }\n",
              "  "
            ]
          },
          "metadata": {}
        },
        {
          "output_type": "display_data",
          "data": {
            "text/plain": [
              "<IPython.core.display.Javascript object>"
            ],
            "application/javascript": [
              "download(\"download_53ce12fc-f049-4c95-bbcc-f1896115d04c\", \"Bus38.csv\", 288107638)"
            ]
          },
          "metadata": {}
        },
        {
          "output_type": "display_data",
          "data": {
            "text/plain": [
              "<IPython.core.display.Javascript object>"
            ],
            "application/javascript": [
              "\n",
              "    async function download(id, filename, size) {\n",
              "      if (!google.colab.kernel.accessAllowed) {\n",
              "        return;\n",
              "      }\n",
              "      const div = document.createElement('div');\n",
              "      const label = document.createElement('label');\n",
              "      label.textContent = `Downloading \"${filename}\": `;\n",
              "      div.appendChild(label);\n",
              "      const progress = document.createElement('progress');\n",
              "      progress.max = size;\n",
              "      div.appendChild(progress);\n",
              "      document.body.appendChild(div);\n",
              "\n",
              "      const buffers = [];\n",
              "      let downloaded = 0;\n",
              "\n",
              "      const channel = await google.colab.kernel.comms.open(id);\n",
              "      // Send a message to notify the kernel that we're ready.\n",
              "      channel.send({})\n",
              "\n",
              "      for await (const message of channel.messages) {\n",
              "        // Send a message to notify the kernel that we're ready.\n",
              "        channel.send({})\n",
              "        if (message.buffers) {\n",
              "          for (const buffer of message.buffers) {\n",
              "            buffers.push(buffer);\n",
              "            downloaded += buffer.byteLength;\n",
              "            progress.value = downloaded;\n",
              "          }\n",
              "        }\n",
              "      }\n",
              "      const blob = new Blob(buffers, {type: 'application/binary'});\n",
              "      const a = document.createElement('a');\n",
              "      a.href = window.URL.createObjectURL(blob);\n",
              "      a.download = filename;\n",
              "      div.appendChild(a);\n",
              "      a.click();\n",
              "      div.remove();\n",
              "    }\n",
              "  "
            ]
          },
          "metadata": {}
        },
        {
          "output_type": "display_data",
          "data": {
            "text/plain": [
              "<IPython.core.display.Javascript object>"
            ],
            "application/javascript": [
              "download(\"download_bca62f85-180d-46ce-904d-b9b5ff9e5753\", \"Bus12.csv\", 293786654)"
            ]
          },
          "metadata": {}
        },
        {
          "output_type": "display_data",
          "data": {
            "text/plain": [
              "<IPython.core.display.Javascript object>"
            ],
            "application/javascript": [
              "\n",
              "    async function download(id, filename, size) {\n",
              "      if (!google.colab.kernel.accessAllowed) {\n",
              "        return;\n",
              "      }\n",
              "      const div = document.createElement('div');\n",
              "      const label = document.createElement('label');\n",
              "      label.textContent = `Downloading \"${filename}\": `;\n",
              "      div.appendChild(label);\n",
              "      const progress = document.createElement('progress');\n",
              "      progress.max = size;\n",
              "      div.appendChild(progress);\n",
              "      document.body.appendChild(div);\n",
              "\n",
              "      const buffers = [];\n",
              "      let downloaded = 0;\n",
              "\n",
              "      const channel = await google.colab.kernel.comms.open(id);\n",
              "      // Send a message to notify the kernel that we're ready.\n",
              "      channel.send({})\n",
              "\n",
              "      for await (const message of channel.messages) {\n",
              "        // Send a message to notify the kernel that we're ready.\n",
              "        channel.send({})\n",
              "        if (message.buffers) {\n",
              "          for (const buffer of message.buffers) {\n",
              "            buffers.push(buffer);\n",
              "            downloaded += buffer.byteLength;\n",
              "            progress.value = downloaded;\n",
              "          }\n",
              "        }\n",
              "      }\n",
              "      const blob = new Blob(buffers, {type: 'application/binary'});\n",
              "      const a = document.createElement('a');\n",
              "      a.href = window.URL.createObjectURL(blob);\n",
              "      a.download = filename;\n",
              "      div.appendChild(a);\n",
              "      a.click();\n",
              "      div.remove();\n",
              "    }\n",
              "  "
            ]
          },
          "metadata": {}
        },
        {
          "output_type": "display_data",
          "data": {
            "text/plain": [
              "<IPython.core.display.Javascript object>"
            ],
            "application/javascript": [
              "download(\"download_0fd1c3b9-22bc-4d84-a99f-bc6d8ed088a2\", \"Bus78.csv\", 293757380)"
            ]
          },
          "metadata": {}
        },
        {
          "output_type": "display_data",
          "data": {
            "text/plain": [
              "<IPython.core.display.Javascript object>"
            ],
            "application/javascript": [
              "\n",
              "    async function download(id, filename, size) {\n",
              "      if (!google.colab.kernel.accessAllowed) {\n",
              "        return;\n",
              "      }\n",
              "      const div = document.createElement('div');\n",
              "      const label = document.createElement('label');\n",
              "      label.textContent = `Downloading \"${filename}\": `;\n",
              "      div.appendChild(label);\n",
              "      const progress = document.createElement('progress');\n",
              "      progress.max = size;\n",
              "      div.appendChild(progress);\n",
              "      document.body.appendChild(div);\n",
              "\n",
              "      const buffers = [];\n",
              "      let downloaded = 0;\n",
              "\n",
              "      const channel = await google.colab.kernel.comms.open(id);\n",
              "      // Send a message to notify the kernel that we're ready.\n",
              "      channel.send({})\n",
              "\n",
              "      for await (const message of channel.messages) {\n",
              "        // Send a message to notify the kernel that we're ready.\n",
              "        channel.send({})\n",
              "        if (message.buffers) {\n",
              "          for (const buffer of message.buffers) {\n",
              "            buffers.push(buffer);\n",
              "            downloaded += buffer.byteLength;\n",
              "            progress.value = downloaded;\n",
              "          }\n",
              "        }\n",
              "      }\n",
              "      const blob = new Blob(buffers, {type: 'application/binary'});\n",
              "      const a = document.createElement('a');\n",
              "      a.href = window.URL.createObjectURL(blob);\n",
              "      a.download = filename;\n",
              "      div.appendChild(a);\n",
              "      a.click();\n",
              "      div.remove();\n",
              "    }\n",
              "  "
            ]
          },
          "metadata": {}
        },
        {
          "output_type": "display_data",
          "data": {
            "text/plain": [
              "<IPython.core.display.Javascript object>"
            ],
            "application/javascript": [
              "download(\"download_189014ed-d9c2-4487-be9a-011d6b11dce9\", \"Bus34.csv\", 293740184)"
            ]
          },
          "metadata": {}
        },
        {
          "output_type": "display_data",
          "data": {
            "text/plain": [
              "<IPython.core.display.Javascript object>"
            ],
            "application/javascript": [
              "\n",
              "    async function download(id, filename, size) {\n",
              "      if (!google.colab.kernel.accessAllowed) {\n",
              "        return;\n",
              "      }\n",
              "      const div = document.createElement('div');\n",
              "      const label = document.createElement('label');\n",
              "      label.textContent = `Downloading \"${filename}\": `;\n",
              "      div.appendChild(label);\n",
              "      const progress = document.createElement('progress');\n",
              "      progress.max = size;\n",
              "      div.appendChild(progress);\n",
              "      document.body.appendChild(div);\n",
              "\n",
              "      const buffers = [];\n",
              "      let downloaded = 0;\n",
              "\n",
              "      const channel = await google.colab.kernel.comms.open(id);\n",
              "      // Send a message to notify the kernel that we're ready.\n",
              "      channel.send({})\n",
              "\n",
              "      for await (const message of channel.messages) {\n",
              "        // Send a message to notify the kernel that we're ready.\n",
              "        channel.send({})\n",
              "        if (message.buffers) {\n",
              "          for (const buffer of message.buffers) {\n",
              "            buffers.push(buffer);\n",
              "            downloaded += buffer.byteLength;\n",
              "            progress.value = downloaded;\n",
              "          }\n",
              "        }\n",
              "      }\n",
              "      const blob = new Blob(buffers, {type: 'application/binary'});\n",
              "      const a = document.createElement('a');\n",
              "      a.href = window.URL.createObjectURL(blob);\n",
              "      a.download = filename;\n",
              "      div.appendChild(a);\n",
              "      a.click();\n",
              "      div.remove();\n",
              "    }\n",
              "  "
            ]
          },
          "metadata": {}
        },
        {
          "output_type": "display_data",
          "data": {
            "text/plain": [
              "<IPython.core.display.Javascript object>"
            ],
            "application/javascript": [
              "download(\"download_f0129ad6-ecbf-4c07-8e85-faeada3192fd\", \"Bus67.csv\", 293751141)"
            ]
          },
          "metadata": {}
        },
        {
          "output_type": "display_data",
          "data": {
            "text/plain": [
              "<IPython.core.display.Javascript object>"
            ],
            "application/javascript": [
              "\n",
              "    async function download(id, filename, size) {\n",
              "      if (!google.colab.kernel.accessAllowed) {\n",
              "        return;\n",
              "      }\n",
              "      const div = document.createElement('div');\n",
              "      const label = document.createElement('label');\n",
              "      label.textContent = `Downloading \"${filename}\": `;\n",
              "      div.appendChild(label);\n",
              "      const progress = document.createElement('progress');\n",
              "      progress.max = size;\n",
              "      div.appendChild(progress);\n",
              "      document.body.appendChild(div);\n",
              "\n",
              "      const buffers = [];\n",
              "      let downloaded = 0;\n",
              "\n",
              "      const channel = await google.colab.kernel.comms.open(id);\n",
              "      // Send a message to notify the kernel that we're ready.\n",
              "      channel.send({})\n",
              "\n",
              "      for await (const message of channel.messages) {\n",
              "        // Send a message to notify the kernel that we're ready.\n",
              "        channel.send({})\n",
              "        if (message.buffers) {\n",
              "          for (const buffer of message.buffers) {\n",
              "            buffers.push(buffer);\n",
              "            downloaded += buffer.byteLength;\n",
              "            progress.value = downloaded;\n",
              "          }\n",
              "        }\n",
              "      }\n",
              "      const blob = new Blob(buffers, {type: 'application/binary'});\n",
              "      const a = document.createElement('a');\n",
              "      a.href = window.URL.createObjectURL(blob);\n",
              "      a.download = filename;\n",
              "      div.appendChild(a);\n",
              "      a.click();\n",
              "      div.remove();\n",
              "    }\n",
              "  "
            ]
          },
          "metadata": {}
        },
        {
          "output_type": "display_data",
          "data": {
            "text/plain": [
              "<IPython.core.display.Javascript object>"
            ],
            "application/javascript": [
              "download(\"download_f55e5b43-b4e0-418f-b46b-0f15bf7e6c7f\", \"Bus45.csv\", 293720535)"
            ]
          },
          "metadata": {}
        }
      ]
    },
    {
      "cell_type": "code",
      "source": [],
      "metadata": {
        "id": "JlQW7uKGxBZ3"
      },
      "execution_count": null,
      "outputs": []
    }
  ]
}